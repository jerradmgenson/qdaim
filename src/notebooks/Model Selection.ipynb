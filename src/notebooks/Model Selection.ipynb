{
 "cells": [
  {
   "cell_type": "code",
   "execution_count": 1,
   "metadata": {},
   "outputs": [
    {
     "ename": "ERROR",
     "evalue": "Error in (function (..., deparse.level = 1, make.row.names = TRUE, stringsAsFactors = default.stringsAsFactors(), : invalid list argument: all variables should have the same length\n",
     "output_type": "error",
     "traceback": [
      "Error in (function (..., deparse.level = 1, make.row.names = TRUE, stringsAsFactors = default.stringsAsFactors(), : invalid list argument: all variables should have the same length\nTraceback:\n",
      "1. data.frame(do.call(rbind.data.frame, scores_list))",
      "2. do.call(rbind.data.frame, scores_list)",
      "3. (function (..., deparse.level = 1, make.row.names = TRUE, stringsAsFactors = default.stringsAsFactors(), \n .     factor.exclude = NA) \n . {\n .     match.names <- function(clabs, nmi) {\n .         if (identical(clabs, nmi)) \n .             NULL\n .         else if (length(nmi) == length(clabs) && all(nmi %in% \n .             clabs)) {\n .             m <- pmatch(nmi, clabs, 0L)\n .             if (any(m == 0L)) \n .                 stop(\"names do not match previous names\")\n .             m\n .         }\n .         else stop(\"names do not match previous names\")\n .     }\n .     allargs <- list(...)\n .     allargs <- allargs[lengths(allargs) > 0L]\n .     if (length(allargs)) {\n .         nr <- vapply(allargs, function(x) if (is.data.frame(x)) \n .             .row_names_info(x, 2L)\n .         else if (is.list(x)) \n .             length(x[[1L]])\n .         else length(x), 1L)\n .         if (any(n0 <- nr == 0L)) {\n .             if (all(n0)) \n .                 return(allargs[[1L]])\n .             allargs <- allargs[!n0]\n .         }\n .     }\n .     n <- length(allargs)\n .     if (n == 0L) \n .         return(structure(list(), class = \"data.frame\", row.names = integer()))\n .     nms <- names(allargs)\n .     if (is.null(nms)) \n .         nms <- character(n)\n .     cl <- NULL\n .     perm <- rows <- vector(\"list\", n)\n .     if (make.row.names) {\n .         rlabs <- rows\n .         autoRnms <- TRUE\n .         Make.row.names <- function(nmi, ri, ni, nrow) {\n .             if (nzchar(nmi)) {\n .                 if (autoRnms) \n .                   autoRnms <<- FALSE\n .                 if (ni == 0L) \n .                   character()\n .                 else if (ni > 1L) \n .                   paste(nmi, ri, sep = \".\")\n .                 else nmi\n .             }\n .             else if (autoRnms && nrow > 0L && identical(ri, seq_len(ni))) \n .                 as.integer(seq.int(from = nrow + 1L, length.out = ni))\n .             else {\n .                 if (autoRnms && (nrow > 0L || !identical(ri, \n .                   seq_len(ni)))) \n .                   autoRnms <<- FALSE\n .                 ri\n .             }\n .         }\n .     }\n .     smartX <- isTRUE(factor.exclude)\n .     nrow <- 0L\n .     value <- clabs <- NULL\n .     all.levs <- list()\n .     for (i in seq_len(n)) {\n .         xi <- allargs[[i]]\n .         nmi <- nms[i]\n .         if (is.matrix(xi)) \n .             allargs[[i]] <- xi <- as.data.frame(xi, stringsAsFactors = stringsAsFactors)\n .         if (inherits(xi, \"data.frame\")) {\n .             if (is.null(cl)) \n .                 cl <- oldClass(xi)\n .             ri <- attr(xi, \"row.names\")\n .             ni <- length(ri)\n .             if (is.null(clabs)) \n .                 clabs <- names(xi)\n .             else {\n .                 if (length(xi) != length(clabs)) \n .                   stop(\"numbers of columns of arguments do not match\")\n .                 pi <- match.names(clabs, names(xi))\n .                 if (!is.null(pi)) \n .                   perm[[i]] <- pi\n .             }\n .             rows[[i]] <- seq.int(from = nrow + 1L, length.out = ni)\n .             if (make.row.names) \n .                 rlabs[[i]] <- Make.row.names(nmi, ri, ni, nrow)\n .             nrow <- nrow + ni\n .             if (is.null(value)) {\n .                 value <- unclass(xi)\n .                 nvar <- length(value)\n .                 all.levs <- vector(\"list\", nvar)\n .                 has.dim <- facCol <- ordCol <- logical(nvar)\n .                 if (smartX) \n .                   NA.lev <- ordCol\n .                 for (j in seq_len(nvar)) {\n .                   xj <- value[[j]]\n .                   facCol[j] <- fac <- if (!is.null(lj <- levels(xj))) {\n .                     all.levs[[j]] <- lj\n .                     TRUE\n .                   }\n .                   else is.factor(xj)\n .                   if (fac) {\n .                     ordCol[j] <- is.ordered(xj)\n .                     if (smartX && !NA.lev[j]) \n .                       NA.lev[j] <- anyNA(lj)\n .                   }\n .                   has.dim[j] <- length(dim(xj)) == 2L\n .                 }\n .             }\n .             else for (j in seq_len(nvar)) {\n .                 xij <- xi[[j]]\n .                 if (is.null(pi) || is.na(jj <- pi[[j]])) \n .                   jj <- j\n .                 if (facCol[jj]) {\n .                   if (length(lij <- levels(xij))) {\n .                     all.levs[[jj]] <- unique(c(all.levs[[jj]], \n .                       lij))\n .                     if (ordCol[jj]) \n .                       ordCol[jj] <- is.ordered(xij)\n .                     if (smartX && !NA.lev[jj]) \n .                       NA.lev[jj] <- anyNA(lij)\n .                   }\n .                   else if (is.character(xij)) \n .                     all.levs[[jj]] <- unique(c(all.levs[[jj]], \n .                       xij))\n .                 }\n .             }\n .         }\n .         else if (is.list(xi)) {\n .             ni <- range(lengths(xi))\n .             if (ni[1L] == ni[2L]) \n .                 ni <- ni[1L]\n .             else stop(\"invalid list argument: all variables should have the same length\")\n .             rows[[i]] <- ri <- as.integer(seq.int(from = nrow + \n .                 1L, length.out = ni))\n .             nrow <- nrow + ni\n .             if (make.row.names) \n .                 rlabs[[i]] <- Make.row.names(nmi, ri, ni, nrow)\n .             if (length(nmi <- names(xi)) > 0L) {\n .                 if (is.null(clabs)) \n .                   clabs <- nmi\n .                 else {\n .                   if (length(xi) != length(clabs)) \n .                     stop(\"numbers of columns of arguments do not match\")\n .                   pi <- match.names(clabs, nmi)\n .                   if (!is.null(pi)) \n .                     perm[[i]] <- pi\n .                 }\n .             }\n .         }\n .         else if (length(xi)) {\n .             rows[[i]] <- nrow <- nrow + 1L\n .             if (make.row.names) \n .                 rlabs[[i]] <- if (nzchar(nmi)) \n .                   nmi\n .                 else as.integer(nrow)\n .         }\n .     }\n .     nvar <- length(clabs)\n .     if (nvar == 0L) \n .         nvar <- max(lengths(allargs))\n .     if (nvar == 0L) \n .         return(structure(list(), class = \"data.frame\", row.names = integer()))\n .     pseq <- seq_len(nvar)\n .     if (is.null(value)) {\n .         value <- list()\n .         value[pseq] <- list(logical(nrow))\n .         all.levs <- vector(\"list\", nvar)\n .         has.dim <- facCol <- ordCol <- logical(nvar)\n .         if (smartX) \n .             NA.lev <- ordCol\n .     }\n .     names(value) <- clabs\n .     for (j in pseq) if (length(lij <- all.levs[[j]])) \n .         value[[j]] <- factor(as.vector(value[[j]]), levels = lij, \n .             exclude = if (smartX) {\n .                 if (!NA.lev[j]) \n .                   NA\n .             }\n .             else factor.exclude, ordered = ordCol[j])\n .     if (any(has.dim)) {\n .         jdim <- pseq[has.dim]\n .         if (!all(df <- vapply(jdim, function(j) inherits(value[[j]], \n .             \"data.frame\"), NA))) {\n .             rmax <- max(unlist(rows))\n .             for (j in jdim[!df]) {\n .                 dn <- dimnames(vj <- value[[j]])\n .                 rn <- dn[[1L]]\n .                 if (length(rn) > 0L) \n .                   length(rn) <- rmax\n .                 pj <- dim(vj)[2L]\n .                 length(vj) <- rmax * pj\n .                 value[[j]] <- array(vj, c(rmax, pj), list(rn, \n .                   dn[[2L]]))\n .             }\n .         }\n .     }\n .     for (i in seq_len(n)) {\n .         xi <- unclass(allargs[[i]])\n .         if (!is.list(xi)) \n .             if (length(xi) != nvar) \n .                 xi <- rep(xi, length.out = nvar)\n .         ri <- rows[[i]]\n .         pi <- perm[[i]]\n .         if (is.null(pi)) \n .             pi <- pseq\n .         for (j in pseq) {\n .             jj <- pi[j]\n .             xij <- xi[[j]]\n .             if (has.dim[jj]) {\n .                 value[[jj]][ri, ] <- xij\n .                 if (!is.null(r <- rownames(xij))) \n .                   rownames(value[[jj]])[ri] <- r\n .             }\n .             else {\n .                 value[[jj]][ri] <- if (is.factor(xij)) \n .                   as.vector(xij)\n .                 else xij\n .                 if (!is.null(nm <- names(xij))) \n .                   names(value[[jj]])[ri] <- nm\n .             }\n .         }\n .     }\n .     rlabs <- if (make.row.names && !autoRnms) {\n .         rlabs <- unlist(rlabs)\n .         if (anyDuplicated(rlabs)) \n .             make.unique(as.character(rlabs), sep = \"\")\n .         else rlabs\n .     }\n .     if (is.null(cl)) {\n .         as.data.frame(value, row.names = rlabs, fix.empty.names = TRUE, \n .             stringsAsFactors = stringsAsFactors)\n .     }\n .     else {\n .         structure(value, class = cl, row.names = if (is.null(rlabs)) \n .             .set_row_names(nrow)\n .         else rlabs)\n .     }\n . })(list(\"random forest\", \"pca\", 0.8602, 0.875, 0.8909, 0.8158, \n .     0.7067, 36.17, 0.4002, 0.6667, 0.6722, 0.1081), list(\"random forest\", \n .     \"standard scaling\", 0.8602, 0.9375, 0.8182, 0.9211, 0.7392, \n .     52.5, 0.4328, 1, 0.6131, 0.1613), list(\"random forest\", \"robust scaling\", \n .     0.871, 0.9388, 0.8364, 0.9211, 0.7574, 59.63, 0.4566, 1, \n .     0.6131, 0.1613), list(\"random forest\", \"isomap\", 0.7312, \n .     0.8125, 0.7091, 0.7632, 0.4722, 7.854, 0.1574, 0.75, 0.3833, \n .     0.1167), list(\"random forest\", NULL, 0.8495, 0.902, 0.8364, \n .     0.8684, 0.7048, 33.73, 0.3846, 1, 0.6131, 0.1744))",
      "4. stop(\"invalid list argument: all variables should have the same length\")"
     ]
    }
   ],
   "source": [
    "# Model Selection\n",
    "# ===============\n",
    "# This notebook compares the scores of different model algorithms, \n",
    "# preprocessing methods, and classification methods.\n",
    "#\n",
    "# The binary classification models generally performed very well,\n",
    "# with QDA and random forest scoring the highest on informedness.\n",
    "# PCA improved the classification performance of these models \n",
    "# significantly. The ternary and multiclass models were less \n",
    "# successfull. The disparity between classification methods is \n",
    "# wide enough that the ternary and multiclass models do not need\n",
    "# to be considered further without additional data.\n",
    "#\n",
    "# Although they scored similarly on informedness, the binary QDA\n",
    "# and random forest models scored very differently on sensitivity\n",
    "# and specificity. While they both scored well on both measures,\n",
    "# QDA scored higher on sensitivity while random forest scored\n",
    "# higher on specificity. All other things being equal, we prefer a\n",
    "# model with greater sensitivity over one with greater specificity\n",
    "# because the risk of underdiagnosis is greater than the risk of\n",
    "# overdiagnosis. If a patient with a healthy heart is diagnosed\n",
    "# with ischemic heart disease, they might undergo additional tests\n",
    "# unnecessarily, which could be costly and invasive (e.g. angiography).\n",
    "# If a patient with heart disease is classified as healthy, they might \n",
    "# experience a myocardial infarction that could have been prevented if \n",
    "# they had been diagnosed correctly. Although misdiagnosis confers risk\n",
    "# in both cases, the latter case is associated with significantly worse\n",
    "# outcomes than the former.\n",
    "#\n",
    "# Therefore, we choose binary QDA with PCA as our model.\n",
    "#\n",
    "# Copyright 2020 Jerrad M. Genson\n",
    "#\n",
    "# This Source Code Form is subject to the terms of the Mozilla Public\n",
    "# License, v. 2.0. If a copy of the MPL was not distributed with this\n",
    "# file, You can obtain one at https://mozilla.org/MPL/2.0/.\n",
    "\n",
    "scores_list <- list(\n",
    "    list('random forest', 'pca', 0.8602, 0.875, 0.8909, 0.8158, 0.7067, 36.17, 0.4002, 0.6667, 0.6722, 0.1081),\n",
    "    list('random forest', 'standard scaling', 0.8602, 0.9375, 0.8182, 0.9211, 0.7392, 52.5, 0.4328, 1.0, 0.6131, 0.1613),\n",
    "    list('random forest', 'robust scaling', 0.871, 0.9388, 0.8364, 0.9211, 0.7574, 59.63, 0.4566, 1.0, 0.6131, 0.1613),\n",
    "    list('random forest', 'isomap', 0.7312, 0.8125, 0.7091, 0.7632, 0.4722, 7.854, 0.1574, 0.75, 0.3833, 0.1167),\n",
    "    list('random forest', 'none', 0.8495, 0.902, 0.8364, 0.8684, 0.7048, 33.73, 0.3846, 1.0, 0.6131, 0.1744))\n",
    "\n",
    "scores <- data.frame(do.call(rbind.data.frame, scores_list))\n",
    "colnames(scores) <- c('model', 'preprocessing', 'accuracy', 'precision', 'sensitivity', 'specificity', 'informedness', 'dor', 'ami', 'outlier informedness', 'cv informedness', 'mad informedness')\n",
    "scores"
   ]
  },
  {
   "cell_type": "code",
   "execution_count": null,
   "metadata": {},
   "outputs": [],
   "source": [
    "scores_list <- list(\n",
    "    list('quadratic discriminant analysis', 'standard scaling', TRUE, 0.6452, 0.4369, 0.3596, 0.1158),\n",
    "    list('quadratic discriminant analysis', 'robust scaling', TRUE, 0.6452, 0.4369, 0.3596, 0.1158),\n",
    "    list('quadratic discriminant analysis', 'pca', TRUE, 0.6452, 0.4369, 0.3596, 0.1158),\n",
    "    list('random forest', 'robust scaling', TRUE, 0.6559, 0.49, 0.4894, 0.1757),\n",
    "    list('random forest', 'pca', TRUE, 0.6559, 0.4886, 0.4886, 0.1739),\n",
    "    list('support vector machine', 'standard scaling', TRUE, 0.6129, 0.4471, 0.5394, 0.1449),\n",
    "    list('support vector machine', 'robust scaling', TRUE, 0.6237, 0.4331, 0.4778, 0.1239),\n",
    "    list('support vector machine', 'pca', TRUE, 0.6022, 0.4311, 0.5304, 0.1264)\n",
    ")\n",
    "\n",
    "ternary_scores <- data.frame(do.call(rbind.data.frame, scores_list))\n",
    "colnames(ternary_scores) <- c('model', 'preprocessing', 'includes fbs', 'accuracy', 'hmean_precision', 'hmean_recall', 'informedness')\n",
    "ternary_scores"
   ]
  },
  {
   "cell_type": "code",
   "execution_count": null,
   "metadata": {},
   "outputs": [],
   "source": [
    "scores_list <- list(\n",
    "    list('quadratic discriminant analysis', 'standard scaling', TRUE, 0.4086, 0.263, 0.3246, -0.288),\n",
    "    list('quadratic discriminant analysis', 'robust scaling', TRUE, 0.4839, 0.0, 0.0, -0.372),\n",
    "    list('quadratic discriminant analysis', 'pca', TRUE, 0.5054, 0.2998, 0.2163, -0.2579),\n",
    "    list('random forest', 'standard scaling', TRUE, 0.4731, 0.3036, 0.2507, -0.1239),\n",
    "    list('random forest', 'robust scaling', TRUE, 0.4624, 0.2606, 0.16, -0.1292),\n",
    "    list('random forest', 'pca', TRUE, 0.4624, 0.2444, 0.3262, -0.2455),\n",
    "    list('support vector machine', 'standard scaling', TRUE, 0.4194, 0.2172, 0.1503, -0.2212),\n",
    "    list('support vector machine', 'robust scaling', TRUE, 0.4194, 0.2172, 0.1503, -0.2212),\n",
    "    list('support vector machine', 'pca', TRUE, 0.4624, 0.213, 0.2161, -0.05439)\n",
    ")\n",
    "\n",
    "multiclass_scores <- data.frame(do.call(rbind.data.frame, scores_list))\n",
    "colnames(multiclass_scores) <- c('model', 'preprocessing', 'includes fbs', 'accuracy', 'hmean_precision', 'hmean_recall', 'informedness')\n",
    "multiclass_scores"
   ]
  },
  {
   "cell_type": "code",
   "execution_count": null,
   "metadata": {},
   "outputs": [],
   "source": []
  }
 ],
 "metadata": {
  "kernelspec": {
   "display_name": "R",
   "language": "R",
   "name": "ir"
  },
  "language_info": {
   "codemirror_mode": "r",
   "file_extension": ".r",
   "mimetype": "text/x-r-source",
   "name": "R",
   "pygments_lexer": "r",
   "version": "3.6.3"
  }
 },
 "nbformat": 4,
 "nbformat_minor": 4
}
