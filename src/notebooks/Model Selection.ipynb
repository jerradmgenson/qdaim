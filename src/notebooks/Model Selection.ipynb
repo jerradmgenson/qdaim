{
 "cells": [
  {
   "cell_type": "code",
   "execution_count": 1,
   "metadata": {},
   "outputs": [
    {
     "ename": "ERROR",
     "evalue": "Error in names(x) <- value: 'names' attribute [13] must be the same length as the vector [12]\n",
     "output_type": "error",
     "traceback": [
      "Error in names(x) <- value: 'names' attribute [13] must be the same length as the vector [12]\nTraceback:\n",
      "1. `colnames<-`(`*tmp*`, value = c(\"model\", \"preprocessing\", \"accuracy\", \n . \"precision\", \"sensitivity\", \"specificity\", \"informedness\", \"dor\", \n . \"ami\", \"outlier informedness\", \"cv informedness\", \"mad informedness\", \n . \"commit hash\"))"
     ]
    }
   ],
   "source": [
    "# Model Selection\n",
    "# ===============\n",
    "# This notebook compares the scores of different model algorithms, \n",
    "# preprocessing methods, and classification methods.\n",
    "#\n",
    "# The binary classification models generally performed very well,\n",
    "# with QDA and random forest scoring the highest on informedness.\n",
    "# PCA improved the classification performance of these models \n",
    "# significantly. The ternary and multiclass models were less \n",
    "# successfull. The disparity between classification methods is \n",
    "# wide enough that the ternary and multiclass models do not need\n",
    "# to be considered further without additional data.\n",
    "#\n",
    "# Although they scored similarly on informedness, the binary QDA\n",
    "# and random forest models scored very differently on sensitivity\n",
    "# and specificity. While they both scored well on both measures,\n",
    "# QDA scored higher on sensitivity while random forest scored\n",
    "# higher on specificity. All other things being equal, we prefer a\n",
    "# model with greater sensitivity over one with greater specificity\n",
    "# because the risk of underdiagnosis is greater than the risk of\n",
    "# overdiagnosis. If a patient with a healthy heart is diagnosed\n",
    "# with ischemic heart disease, they might undergo additional tests\n",
    "# unnecessarily, which could be costly and invasive (e.g. angiography).\n",
    "# If a patient with heart disease is classified as healthy, they might \n",
    "# experience a myocardial infarction that could have been prevented if \n",
    "# they had been diagnosed correctly. Although misdiagnosis confers risk\n",
    "# in both cases, the latter case is associated with significantly worse\n",
    "# outcomes than the former.\n",
    "#\n",
    "# Therefore, we choose binary QDA with PCA as our model.\n",
    "#\n",
    "# Copyright 2020 Jerrad M. Genson\n",
    "#\n",
    "# This Source Code Form is subject to the terms of the Mozilla Public\n",
    "# License, v. 2.0. If a copy of the MPL was not distributed with this\n",
    "# file, You can obtain one at https://mozilla.org/MPL/2.0/.\n",
    "\n",
    "scores_list <- list(\n",
    "    list('random forest', 'standard scaling', 0.8602, 0.9375, 0.8182, 0.9211, 0.7392, 52.5, 0.4328, 1.0, 0.6131, 0.1613))\n",
    "\n",
    "scores <- data.frame(do.call(rbind.data.frame, scores_list))\n",
    "colnames(scores) <- c('model', 'preprocessing', 'accuracy', 'precision', 'sensitivity', 'specificity', 'informedness', 'dor', 'ami', 'outlier informedness', 'cv informedness', 'mad informedness', 'commit hash')\n",
    "scores"
   ]
  },
  {
   "cell_type": "code",
   "execution_count": null,
   "metadata": {},
   "outputs": [],
   "source": [
    "scores_list <- list(\n",
    "    list('quadratic discriminant analysis', 'standard scaling', TRUE, 0.6452, 0.4369, 0.3596, 0.1158),\n",
    "    list('quadratic discriminant analysis', 'robust scaling', TRUE, 0.6452, 0.4369, 0.3596, 0.1158),\n",
    "    list('quadratic discriminant analysis', 'pca', TRUE, 0.6452, 0.4369, 0.3596, 0.1158),\n",
    "    list('random forest', 'robust scaling', TRUE, 0.6559, 0.49, 0.4894, 0.1757),\n",
    "    list('random forest', 'pca', TRUE, 0.6559, 0.4886, 0.4886, 0.1739),\n",
    "    list('support vector machine', 'standard scaling', TRUE, 0.6129, 0.4471, 0.5394, 0.1449),\n",
    "    list('support vector machine', 'robust scaling', TRUE, 0.6237, 0.4331, 0.4778, 0.1239),\n",
    "    list('support vector machine', 'pca', TRUE, 0.6022, 0.4311, 0.5304, 0.1264)\n",
    ")\n",
    "\n",
    "ternary_scores <- data.frame(do.call(rbind.data.frame, scores_list))\n",
    "colnames(ternary_scores) <- c('model', 'preprocessing', 'includes fbs', 'accuracy', 'hmean_precision', 'hmean_recall', 'informedness')\n",
    "ternary_scores"
   ]
  },
  {
   "cell_type": "code",
   "execution_count": null,
   "metadata": {},
   "outputs": [],
   "source": [
    "scores_list <- list(\n",
    "    list('quadratic discriminant analysis', 'standard scaling', TRUE, 0.4086, 0.263, 0.3246, -0.288),\n",
    "    list('quadratic discriminant analysis', 'robust scaling', TRUE, 0.4839, 0.0, 0.0, -0.372),\n",
    "    list('quadratic discriminant analysis', 'pca', TRUE, 0.5054, 0.2998, 0.2163, -0.2579),\n",
    "    list('random forest', 'standard scaling', TRUE, 0.4731, 0.3036, 0.2507, -0.1239),\n",
    "    list('random forest', 'robust scaling', TRUE, 0.4624, 0.2606, 0.16, -0.1292),\n",
    "    list('random forest', 'pca', TRUE, 0.4624, 0.2444, 0.3262, -0.2455),\n",
    "    list('support vector machine', 'standard scaling', TRUE, 0.4194, 0.2172, 0.1503, -0.2212),\n",
    "    list('support vector machine', 'robust scaling', TRUE, 0.4194, 0.2172, 0.1503, -0.2212),\n",
    "    list('support vector machine', 'pca', TRUE, 0.4624, 0.213, 0.2161, -0.05439)\n",
    ")\n",
    "\n",
    "multiclass_scores <- data.frame(do.call(rbind.data.frame, scores_list))\n",
    "colnames(multiclass_scores) <- c('model', 'preprocessing', 'includes fbs', 'accuracy', 'hmean_precision', 'hmean_recall', 'informedness')\n",
    "multiclass_scores"
   ]
  },
  {
   "cell_type": "code",
   "execution_count": null,
   "metadata": {},
   "outputs": [],
   "source": []
  }
 ],
 "metadata": {
  "kernelspec": {
   "display_name": "R",
   "language": "R",
   "name": "ir"
  },
  "language_info": {
   "codemirror_mode": "r",
   "file_extension": ".r",
   "mimetype": "text/x-r-source",
   "name": "R",
   "pygments_lexer": "r",
   "version": "3.6.3"
  }
 },
 "nbformat": 4,
 "nbformat_minor": 4
}
