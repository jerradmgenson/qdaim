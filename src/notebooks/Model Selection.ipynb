{
 "cells": [
  {
   "cell_type": "code",
   "execution_count": 1,
   "metadata": {},
   "outputs": [
    {
     "name": "stderr",
     "output_type": "stream",
     "text": [
      "── \u001b[1mAttaching packages\u001b[22m ─────────────────────────────────────── tidyverse 1.3.0 ──\n",
      "\n",
      "\u001b[32m✔\u001b[39m \u001b[34mggplot2\u001b[39m 3.3.2     \u001b[32m✔\u001b[39m \u001b[34mpurrr  \u001b[39m 0.3.4\n",
      "\u001b[32m✔\u001b[39m \u001b[34mtibble \u001b[39m 3.0.4     \u001b[32m✔\u001b[39m \u001b[34mdplyr  \u001b[39m 1.0.2\n",
      "\u001b[32m✔\u001b[39m \u001b[34mtidyr  \u001b[39m 1.1.2     \u001b[32m✔\u001b[39m \u001b[34mstringr\u001b[39m 1.4.0\n",
      "\u001b[32m✔\u001b[39m \u001b[34mreadr  \u001b[39m 1.4.0     \u001b[32m✔\u001b[39m \u001b[34mforcats\u001b[39m 0.5.0\n",
      "\n",
      "── \u001b[1mConflicts\u001b[22m ────────────────────────────────────────── tidyverse_conflicts() ──\n",
      "\u001b[31m✖\u001b[39m \u001b[34mdplyr\u001b[39m::\u001b[32mfilter()\u001b[39m masks \u001b[34mstats\u001b[39m::filter()\n",
      "\u001b[31m✖\u001b[39m \u001b[34mdplyr\u001b[39m::\u001b[32mlag()\u001b[39m    masks \u001b[34mstats\u001b[39m::lag()\n",
      "\n",
      "\n",
      "\u001b[36m──\u001b[39m \u001b[1m\u001b[1mColumn specification\u001b[1m\u001b[22m \u001b[36m────────────────────────────────────────────────────────\u001b[39m\n",
      "cols(\n",
      "  model = \u001b[31mcol_character()\u001b[39m,\n",
      "  preprocessing = \u001b[31mcol_character()\u001b[39m,\n",
      "  accuracy = \u001b[32mcol_double()\u001b[39m,\n",
      "  precision = \u001b[32mcol_double()\u001b[39m,\n",
      "  sensitivity = \u001b[32mcol_double()\u001b[39m,\n",
      "  specificity = \u001b[32mcol_double()\u001b[39m,\n",
      "  informedness = \u001b[32mcol_double()\u001b[39m,\n",
      "  dor = \u001b[32mcol_double()\u001b[39m,\n",
      "  ami = \u001b[32mcol_double()\u001b[39m,\n",
      "  `outlier informedness` = \u001b[32mcol_double()\u001b[39m,\n",
      "  `cv informedness` = \u001b[32mcol_double()\u001b[39m,\n",
      "  `mad informedness` = \u001b[32mcol_double()\u001b[39m,\n",
      "  `commit hash` = \u001b[31mcol_character()\u001b[39m\n",
      ")\n",
      "\n",
      "\n",
      "Warning message:\n",
      "“1 parsing failure.\n",
      "row col   expected     actual                                                       file\n",
      "  9  -- 13 columns 14 columns '/home/jgenson/Development/qdaim/data/model_selection.csv'\n",
      "”\n"
     ]
    },
    {
     "data": {
      "text/html": [
       "<table>\n",
       "<caption>A spec_tbl_df: 33 × 13</caption>\n",
       "<thead>\n",
       "\t<tr><th scope=col>model</th><th scope=col>preprocessing</th><th scope=col>accuracy</th><th scope=col>precision</th><th scope=col>sensitivity</th><th scope=col>specificity</th><th scope=col>informedness</th><th scope=col>dor</th><th scope=col>ami</th><th scope=col>outlier informedness</th><th scope=col>cv informedness</th><th scope=col>mad informedness</th><th scope=col>commit hash</th></tr>\n",
       "\t<tr><th scope=col>&lt;chr&gt;</th><th scope=col>&lt;chr&gt;</th><th scope=col>&lt;dbl&gt;</th><th scope=col>&lt;dbl&gt;</th><th scope=col>&lt;dbl&gt;</th><th scope=col>&lt;dbl&gt;</th><th scope=col>&lt;dbl&gt;</th><th scope=col>&lt;dbl&gt;</th><th scope=col>&lt;dbl&gt;</th><th scope=col>&lt;dbl&gt;</th><th scope=col>&lt;dbl&gt;</th><th scope=col>&lt;dbl&gt;</th><th scope=col>&lt;chr&gt;</th></tr>\n",
       "</thead>\n",
       "<tbody>\n",
       "\t<tr><td>rfc</td><td>robust scaling       </td><td>0.8197</td><td>0.8421</td><td>0.6667</td><td>0.9189</td><td>0.5856</td><td>22.670</td><td>    NA</td><td>0.5</td><td>0.5143</td><td>0.2317</td><td>f8469be</td></tr>\n",
       "\t<tr><td>rfc</td><td>standard scaling     </td><td>0.8033</td><td>0.8000</td><td>0.6667</td><td>0.8919</td><td>0.5586</td><td>16.500</td><td>0.2582</td><td>0.5</td><td>0.5143</td><td>0.2746</td><td>94c6579</td></tr>\n",
       "\t<tr><td>rfc</td><td>pca                  </td><td>0.8033</td><td>0.7727</td><td>0.7083</td><td>0.8649</td><td>0.5732</td><td>15.540</td><td>0.2565</td><td>0.5</td><td>0.5071</td><td>0.2214</td><td>c34a598</td></tr>\n",
       "\t<tr><td>rfc</td><td>isomap               </td><td>0.7049</td><td>0.6071</td><td>0.7083</td><td>0.7027</td><td>0.4110</td><td> 5.740</td><td>0.1113</td><td>0.3</td><td>0.5119</td><td>0.2000</td><td>cb0728e</td></tr>\n",
       "\t<tr><td>rfc</td><td>lle                  </td><td>0.7377</td><td>0.6538</td><td>0.7083</td><td>0.7568</td><td>0.4651</td><td> 7.556</td><td>0.1494</td><td>0.1</td><td>0.5786</td><td>0.2619</td><td>f708b98</td></tr>\n",
       "\t<tr><td>rfc</td><td>feature agglomeration</td><td>0.7377</td><td>0.6538</td><td>0.7083</td><td>0.7568</td><td>0.4651</td><td> 7.556</td><td>0.1494</td><td>0.3</td><td>0.5143</td><td>0.2000</td><td>3d44e37</td></tr>\n",
       "\t<tr><td>rfc</td><td>nca                  </td><td>0.6721</td><td>0.5588</td><td>0.7917</td><td>0.5946</td><td>0.3863</td><td> 5.573</td><td>0.1004</td><td>0.3</td><td>0.5071</td><td>0.1667</td><td>e9bdd96</td></tr>\n",
       "\t<tr><td>rfc</td><td>factor analysis      </td><td>0.7705</td><td>0.7273</td><td>0.6667</td><td>0.8378</td><td>0.5045</td><td>10.330</td><td>0.1929</td><td>0.5</td><td>0.4476</td><td>0.2095</td><td>87cb944</td></tr>\n",
       "\t<tr><td>etc</td><td>robust scaling       </td><td>0.7541</td><td>0.6957</td><td>0.6667</td><td>0.8108</td><td>0.4775</td><td> 8.571</td><td>    NA</td><td>0.5</td><td>0.5000</td><td>0.1619</td><td>9f5b916</td></tr>\n",
       "\t<tr><td>dtc</td><td>robust scaling       </td><td>0.6066</td><td>0.5000</td><td>0.7083</td><td>0.5405</td><td>0.2489</td><td> 2.857</td><td>    NA</td><td>0.3</td><td>0.3333</td><td>0.1738</td><td>8b723aa</td></tr>\n",
       "\t<tr><td>knn</td><td>robust scaling       </td><td>0.7705</td><td>0.6923</td><td>0.7500</td><td>0.7838</td><td>0.5338</td><td>10.880</td><td>    NA</td><td>0.5</td><td>0.5143</td><td>0.2286</td><td>5fa0875</td></tr>\n",
       "\t<tr><td>rnc</td><td>robust scaling       </td><td>0.7869</td><td>0.8667</td><td>0.5417</td><td>0.9459</td><td>0.4876</td><td>20.680</td><td>    NA</td><td>0.5</td><td>0.4000</td><td>0.1321</td><td>d39c759</td></tr>\n",
       "\t<tr><td>gbc</td><td>robust scaling       </td><td>0.7377</td><td>0.6538</td><td>0.7083</td><td>0.7568</td><td>0.4651</td><td> 7.556</td><td>    NA</td><td>0.3</td><td>0.5143</td><td>0.2603</td><td>ba7e053</td></tr>\n",
       "\t<tr><td>lrc</td><td>robust scaling       </td><td>0.8361</td><td>0.8500</td><td>0.7083</td><td>0.9189</td><td>0.6273</td><td>27.520</td><td>    NA</td><td>0.5</td><td>0.5310</td><td>0.2167</td><td>87fb70c</td></tr>\n",
       "\t<tr><td>lrc</td><td>standard scaling     </td><td>0.7541</td><td>0.6800</td><td>0.7083</td><td>0.7838</td><td>0.4921</td><td> 8.804</td><td>0.1717</td><td>0.5</td><td>0.5143</td><td>0.2000</td><td>558c2d3</td></tr>\n",
       "\t<tr><td>lrc</td><td>pca                  </td><td>0.8197</td><td>0.8095</td><td>0.7083</td><td>0.8919</td><td>0.6002</td><td>20.040</td><td>0.2931</td><td>0.5</td><td>0.5429</td><td>0.2083</td><td>1516719</td></tr>\n",
       "\t<tr><td>lrc</td><td>isomap               </td><td>0.8361</td><td>0.8500</td><td>0.7083</td><td>0.9189</td><td>0.6273</td><td>27.520</td><td>0.3359</td><td>0.5</td><td>0.5143</td><td>0.2603</td><td>b49fe61</td></tr>\n",
       "\t<tr><td>lrc</td><td>lle                  </td><td>0.8361</td><td>0.8500</td><td>0.7083</td><td>0.9189</td><td>0.6273</td><td>27.520</td><td>0.3359</td><td>0.5</td><td>0.5310</td><td>0.2464</td><td>1866d34</td></tr>\n",
       "\t<tr><td>lrc</td><td>hessian lle          </td><td>0.8033</td><td>0.8000</td><td>0.6667</td><td>0.8919</td><td>0.5586</td><td>16.500</td><td>0.2582</td><td>0.5</td><td>0.5071</td><td>0.2000</td><td>2834301</td></tr>\n",
       "\t<tr><td>lrc</td><td>modified lle         </td><td>0.8525</td><td>0.8947</td><td>0.7083</td><td>0.9459</td><td>0.6543</td><td>42.500</td><td>0.3875</td><td>0.5</td><td>0.4857</td><td>0.1762</td><td>a718db8</td></tr>\n",
       "\t<tr><td>lrc</td><td>factor analysis      </td><td>0.8033</td><td>0.7727</td><td>0.7083</td><td>0.8649</td><td>0.5732</td><td>15.540</td><td>0.2565</td><td>0.5</td><td>0.5143</td><td>0.2464</td><td>5ca774d</td></tr>\n",
       "\t<tr><td>lrc</td><td>nca                  </td><td>0.8361</td><td>0.8500</td><td>0.7083</td><td>0.9189</td><td>0.6273</td><td>27.520</td><td>0.3359</td><td>0.5</td><td>0.5310</td><td>0.2917</td><td>3ad5091</td></tr>\n",
       "\t<tr><td>lda</td><td>robust scaling       </td><td>0.7705</td><td>0.7083</td><td>0.7083</td><td>0.8108</td><td>0.5191</td><td>10.410</td><td>    NA</td><td>0.5</td><td>0.5071</td><td>0.2536</td><td>cfc4f87</td></tr>\n",
       "\t<tr><td>qda</td><td>robust scaling       </td><td>0.7869</td><td>0.7895</td><td>0.6250</td><td>0.8919</td><td>0.5169</td><td>13.750</td><td>    NA</td><td>0.5</td><td>0.6571</td><td>0.1571</td><td>eb89d93</td></tr>\n",
       "\t<tr><td>qda</td><td>standard scaling     </td><td>0.7869</td><td>0.7391</td><td>0.7083</td><td>0.8378</td><td>0.5462</td><td>12.550</td><td>0.2246</td><td>0.5</td><td>0.5071</td><td>0.2286</td><td>4f5e971</td></tr>\n",
       "\t<tr><td>qda</td><td>pca                  </td><td>0.8361</td><td>0.8500</td><td>0.7083</td><td>0.9189</td><td>0.6273</td><td>27.520</td><td>0.3359</td><td>0.5</td><td>0.5982</td><td>0.2286</td><td>7519c68</td></tr>\n",
       "\t<tr><td>qda</td><td>isomap               </td><td>0.7869</td><td>0.7895</td><td>0.6250</td><td>0.8919</td><td>0.5169</td><td>13.750</td><td>0.2257</td><td>0.5</td><td>0.5000</td><td>0.2000</td><td>b8974bb</td></tr>\n",
       "\t<tr><td>qda</td><td>lle                  </td><td>0.7705</td><td>0.8125</td><td>0.5417</td><td>0.9189</td><td>0.4606</td><td>13.390</td><td>0.2033</td><td>0.5</td><td>0.4018</td><td>0.1482</td><td>b329be3</td></tr>\n",
       "\t<tr><td>qda</td><td>hessian lle          </td><td>0.7377</td><td>0.6818</td><td>0.6250</td><td>0.8108</td><td>0.4358</td><td> 7.143</td><td>0.1390</td><td>0.1</td><td>0.4000</td><td>0.2292</td><td>ed6fa1b</td></tr>\n",
       "\t<tr><td>qda</td><td>modified lle         </td><td>0.7869</td><td>0.7895</td><td>0.6250</td><td>0.8919</td><td>0.5169</td><td>13.750</td><td>0.2257</td><td>0.5</td><td>0.5857</td><td>0.2524</td><td>ea3e489</td></tr>\n",
       "\t<tr><td>qda</td><td>factor analysis      </td><td>0.7869</td><td>0.7391</td><td>0.7083</td><td>0.8378</td><td>0.5462</td><td>12.550</td><td>0.2246</td><td>0.5</td><td>0.5143</td><td>0.2000</td><td>241633d</td></tr>\n",
       "\t<tr><td>qda</td><td>feature agglomeration</td><td>0.7869</td><td>0.7895</td><td>0.6250</td><td>0.8919</td><td>0.5169</td><td>13.750</td><td>0.2257</td><td>0.5</td><td>0.6571</td><td>0.1571</td><td>44d8eda</td></tr>\n",
       "\t<tr><td>qda</td><td>nca                  </td><td>0.8033</td><td>0.7727</td><td>0.7083</td><td>0.8649</td><td>0.5732</td><td>15.540</td><td>0.2565</td><td>0.5</td><td>0.5143</td><td>0.2000</td><td>32f0e7c</td></tr>\n",
       "</tbody>\n",
       "</table>\n"
      ],
      "text/latex": [
       "A spec\\_tbl\\_df: 33 × 13\n",
       "\\begin{tabular}{lllllllllllll}\n",
       " model & preprocessing & accuracy & precision & sensitivity & specificity & informedness & dor & ami & outlier informedness & cv informedness & mad informedness & commit hash\\\\\n",
       " <chr> & <chr> & <dbl> & <dbl> & <dbl> & <dbl> & <dbl> & <dbl> & <dbl> & <dbl> & <dbl> & <dbl> & <chr>\\\\\n",
       "\\hline\n",
       "\t rfc & robust scaling        & 0.8197 & 0.8421 & 0.6667 & 0.9189 & 0.5856 & 22.670 &     NA & 0.5 & 0.5143 & 0.2317 & f8469be\\\\\n",
       "\t rfc & standard scaling      & 0.8033 & 0.8000 & 0.6667 & 0.8919 & 0.5586 & 16.500 & 0.2582 & 0.5 & 0.5143 & 0.2746 & 94c6579\\\\\n",
       "\t rfc & pca                   & 0.8033 & 0.7727 & 0.7083 & 0.8649 & 0.5732 & 15.540 & 0.2565 & 0.5 & 0.5071 & 0.2214 & c34a598\\\\\n",
       "\t rfc & isomap                & 0.7049 & 0.6071 & 0.7083 & 0.7027 & 0.4110 &  5.740 & 0.1113 & 0.3 & 0.5119 & 0.2000 & cb0728e\\\\\n",
       "\t rfc & lle                   & 0.7377 & 0.6538 & 0.7083 & 0.7568 & 0.4651 &  7.556 & 0.1494 & 0.1 & 0.5786 & 0.2619 & f708b98\\\\\n",
       "\t rfc & feature agglomeration & 0.7377 & 0.6538 & 0.7083 & 0.7568 & 0.4651 &  7.556 & 0.1494 & 0.3 & 0.5143 & 0.2000 & 3d44e37\\\\\n",
       "\t rfc & nca                   & 0.6721 & 0.5588 & 0.7917 & 0.5946 & 0.3863 &  5.573 & 0.1004 & 0.3 & 0.5071 & 0.1667 & e9bdd96\\\\\n",
       "\t rfc & factor analysis       & 0.7705 & 0.7273 & 0.6667 & 0.8378 & 0.5045 & 10.330 & 0.1929 & 0.5 & 0.4476 & 0.2095 & 87cb944\\\\\n",
       "\t etc & robust scaling        & 0.7541 & 0.6957 & 0.6667 & 0.8108 & 0.4775 &  8.571 &     NA & 0.5 & 0.5000 & 0.1619 & 9f5b916\\\\\n",
       "\t dtc & robust scaling        & 0.6066 & 0.5000 & 0.7083 & 0.5405 & 0.2489 &  2.857 &     NA & 0.3 & 0.3333 & 0.1738 & 8b723aa\\\\\n",
       "\t knn & robust scaling        & 0.7705 & 0.6923 & 0.7500 & 0.7838 & 0.5338 & 10.880 &     NA & 0.5 & 0.5143 & 0.2286 & 5fa0875\\\\\n",
       "\t rnc & robust scaling        & 0.7869 & 0.8667 & 0.5417 & 0.9459 & 0.4876 & 20.680 &     NA & 0.5 & 0.4000 & 0.1321 & d39c759\\\\\n",
       "\t gbc & robust scaling        & 0.7377 & 0.6538 & 0.7083 & 0.7568 & 0.4651 &  7.556 &     NA & 0.3 & 0.5143 & 0.2603 & ba7e053\\\\\n",
       "\t lrc & robust scaling        & 0.8361 & 0.8500 & 0.7083 & 0.9189 & 0.6273 & 27.520 &     NA & 0.5 & 0.5310 & 0.2167 & 87fb70c\\\\\n",
       "\t lrc & standard scaling      & 0.7541 & 0.6800 & 0.7083 & 0.7838 & 0.4921 &  8.804 & 0.1717 & 0.5 & 0.5143 & 0.2000 & 558c2d3\\\\\n",
       "\t lrc & pca                   & 0.8197 & 0.8095 & 0.7083 & 0.8919 & 0.6002 & 20.040 & 0.2931 & 0.5 & 0.5429 & 0.2083 & 1516719\\\\\n",
       "\t lrc & isomap                & 0.8361 & 0.8500 & 0.7083 & 0.9189 & 0.6273 & 27.520 & 0.3359 & 0.5 & 0.5143 & 0.2603 & b49fe61\\\\\n",
       "\t lrc & lle                   & 0.8361 & 0.8500 & 0.7083 & 0.9189 & 0.6273 & 27.520 & 0.3359 & 0.5 & 0.5310 & 0.2464 & 1866d34\\\\\n",
       "\t lrc & hessian lle           & 0.8033 & 0.8000 & 0.6667 & 0.8919 & 0.5586 & 16.500 & 0.2582 & 0.5 & 0.5071 & 0.2000 & 2834301\\\\\n",
       "\t lrc & modified lle          & 0.8525 & 0.8947 & 0.7083 & 0.9459 & 0.6543 & 42.500 & 0.3875 & 0.5 & 0.4857 & 0.1762 & a718db8\\\\\n",
       "\t lrc & factor analysis       & 0.8033 & 0.7727 & 0.7083 & 0.8649 & 0.5732 & 15.540 & 0.2565 & 0.5 & 0.5143 & 0.2464 & 5ca774d\\\\\n",
       "\t lrc & nca                   & 0.8361 & 0.8500 & 0.7083 & 0.9189 & 0.6273 & 27.520 & 0.3359 & 0.5 & 0.5310 & 0.2917 & 3ad5091\\\\\n",
       "\t lda & robust scaling        & 0.7705 & 0.7083 & 0.7083 & 0.8108 & 0.5191 & 10.410 &     NA & 0.5 & 0.5071 & 0.2536 & cfc4f87\\\\\n",
       "\t qda & robust scaling        & 0.7869 & 0.7895 & 0.6250 & 0.8919 & 0.5169 & 13.750 &     NA & 0.5 & 0.6571 & 0.1571 & eb89d93\\\\\n",
       "\t qda & standard scaling      & 0.7869 & 0.7391 & 0.7083 & 0.8378 & 0.5462 & 12.550 & 0.2246 & 0.5 & 0.5071 & 0.2286 & 4f5e971\\\\\n",
       "\t qda & pca                   & 0.8361 & 0.8500 & 0.7083 & 0.9189 & 0.6273 & 27.520 & 0.3359 & 0.5 & 0.5982 & 0.2286 & 7519c68\\\\\n",
       "\t qda & isomap                & 0.7869 & 0.7895 & 0.6250 & 0.8919 & 0.5169 & 13.750 & 0.2257 & 0.5 & 0.5000 & 0.2000 & b8974bb\\\\\n",
       "\t qda & lle                   & 0.7705 & 0.8125 & 0.5417 & 0.9189 & 0.4606 & 13.390 & 0.2033 & 0.5 & 0.4018 & 0.1482 & b329be3\\\\\n",
       "\t qda & hessian lle           & 0.7377 & 0.6818 & 0.6250 & 0.8108 & 0.4358 &  7.143 & 0.1390 & 0.1 & 0.4000 & 0.2292 & ed6fa1b\\\\\n",
       "\t qda & modified lle          & 0.7869 & 0.7895 & 0.6250 & 0.8919 & 0.5169 & 13.750 & 0.2257 & 0.5 & 0.5857 & 0.2524 & ea3e489\\\\\n",
       "\t qda & factor analysis       & 0.7869 & 0.7391 & 0.7083 & 0.8378 & 0.5462 & 12.550 & 0.2246 & 0.5 & 0.5143 & 0.2000 & 241633d\\\\\n",
       "\t qda & feature agglomeration & 0.7869 & 0.7895 & 0.6250 & 0.8919 & 0.5169 & 13.750 & 0.2257 & 0.5 & 0.6571 & 0.1571 & 44d8eda\\\\\n",
       "\t qda & nca                   & 0.8033 & 0.7727 & 0.7083 & 0.8649 & 0.5732 & 15.540 & 0.2565 & 0.5 & 0.5143 & 0.2000 & 32f0e7c\\\\\n",
       "\\end{tabular}\n"
      ],
      "text/markdown": [
       "\n",
       "A spec_tbl_df: 33 × 13\n",
       "\n",
       "| model &lt;chr&gt; | preprocessing &lt;chr&gt; | accuracy &lt;dbl&gt; | precision &lt;dbl&gt; | sensitivity &lt;dbl&gt; | specificity &lt;dbl&gt; | informedness &lt;dbl&gt; | dor &lt;dbl&gt; | ami &lt;dbl&gt; | outlier informedness &lt;dbl&gt; | cv informedness &lt;dbl&gt; | mad informedness &lt;dbl&gt; | commit hash &lt;chr&gt; |\n",
       "|---|---|---|---|---|---|---|---|---|---|---|---|---|\n",
       "| rfc | robust scaling        | 0.8197 | 0.8421 | 0.6667 | 0.9189 | 0.5856 | 22.670 |     NA | 0.5 | 0.5143 | 0.2317 | f8469be |\n",
       "| rfc | standard scaling      | 0.8033 | 0.8000 | 0.6667 | 0.8919 | 0.5586 | 16.500 | 0.2582 | 0.5 | 0.5143 | 0.2746 | 94c6579 |\n",
       "| rfc | pca                   | 0.8033 | 0.7727 | 0.7083 | 0.8649 | 0.5732 | 15.540 | 0.2565 | 0.5 | 0.5071 | 0.2214 | c34a598 |\n",
       "| rfc | isomap                | 0.7049 | 0.6071 | 0.7083 | 0.7027 | 0.4110 |  5.740 | 0.1113 | 0.3 | 0.5119 | 0.2000 | cb0728e |\n",
       "| rfc | lle                   | 0.7377 | 0.6538 | 0.7083 | 0.7568 | 0.4651 |  7.556 | 0.1494 | 0.1 | 0.5786 | 0.2619 | f708b98 |\n",
       "| rfc | feature agglomeration | 0.7377 | 0.6538 | 0.7083 | 0.7568 | 0.4651 |  7.556 | 0.1494 | 0.3 | 0.5143 | 0.2000 | 3d44e37 |\n",
       "| rfc | nca                   | 0.6721 | 0.5588 | 0.7917 | 0.5946 | 0.3863 |  5.573 | 0.1004 | 0.3 | 0.5071 | 0.1667 | e9bdd96 |\n",
       "| rfc | factor analysis       | 0.7705 | 0.7273 | 0.6667 | 0.8378 | 0.5045 | 10.330 | 0.1929 | 0.5 | 0.4476 | 0.2095 | 87cb944 |\n",
       "| etc | robust scaling        | 0.7541 | 0.6957 | 0.6667 | 0.8108 | 0.4775 |  8.571 |     NA | 0.5 | 0.5000 | 0.1619 | 9f5b916 |\n",
       "| dtc | robust scaling        | 0.6066 | 0.5000 | 0.7083 | 0.5405 | 0.2489 |  2.857 |     NA | 0.3 | 0.3333 | 0.1738 | 8b723aa |\n",
       "| knn | robust scaling        | 0.7705 | 0.6923 | 0.7500 | 0.7838 | 0.5338 | 10.880 |     NA | 0.5 | 0.5143 | 0.2286 | 5fa0875 |\n",
       "| rnc | robust scaling        | 0.7869 | 0.8667 | 0.5417 | 0.9459 | 0.4876 | 20.680 |     NA | 0.5 | 0.4000 | 0.1321 | d39c759 |\n",
       "| gbc | robust scaling        | 0.7377 | 0.6538 | 0.7083 | 0.7568 | 0.4651 |  7.556 |     NA | 0.3 | 0.5143 | 0.2603 | ba7e053 |\n",
       "| lrc | robust scaling        | 0.8361 | 0.8500 | 0.7083 | 0.9189 | 0.6273 | 27.520 |     NA | 0.5 | 0.5310 | 0.2167 | 87fb70c |\n",
       "| lrc | standard scaling      | 0.7541 | 0.6800 | 0.7083 | 0.7838 | 0.4921 |  8.804 | 0.1717 | 0.5 | 0.5143 | 0.2000 | 558c2d3 |\n",
       "| lrc | pca                   | 0.8197 | 0.8095 | 0.7083 | 0.8919 | 0.6002 | 20.040 | 0.2931 | 0.5 | 0.5429 | 0.2083 | 1516719 |\n",
       "| lrc | isomap                | 0.8361 | 0.8500 | 0.7083 | 0.9189 | 0.6273 | 27.520 | 0.3359 | 0.5 | 0.5143 | 0.2603 | b49fe61 |\n",
       "| lrc | lle                   | 0.8361 | 0.8500 | 0.7083 | 0.9189 | 0.6273 | 27.520 | 0.3359 | 0.5 | 0.5310 | 0.2464 | 1866d34 |\n",
       "| lrc | hessian lle           | 0.8033 | 0.8000 | 0.6667 | 0.8919 | 0.5586 | 16.500 | 0.2582 | 0.5 | 0.5071 | 0.2000 | 2834301 |\n",
       "| lrc | modified lle          | 0.8525 | 0.8947 | 0.7083 | 0.9459 | 0.6543 | 42.500 | 0.3875 | 0.5 | 0.4857 | 0.1762 | a718db8 |\n",
       "| lrc | factor analysis       | 0.8033 | 0.7727 | 0.7083 | 0.8649 | 0.5732 | 15.540 | 0.2565 | 0.5 | 0.5143 | 0.2464 | 5ca774d |\n",
       "| lrc | nca                   | 0.8361 | 0.8500 | 0.7083 | 0.9189 | 0.6273 | 27.520 | 0.3359 | 0.5 | 0.5310 | 0.2917 | 3ad5091 |\n",
       "| lda | robust scaling        | 0.7705 | 0.7083 | 0.7083 | 0.8108 | 0.5191 | 10.410 |     NA | 0.5 | 0.5071 | 0.2536 | cfc4f87 |\n",
       "| qda | robust scaling        | 0.7869 | 0.7895 | 0.6250 | 0.8919 | 0.5169 | 13.750 |     NA | 0.5 | 0.6571 | 0.1571 | eb89d93 |\n",
       "| qda | standard scaling      | 0.7869 | 0.7391 | 0.7083 | 0.8378 | 0.5462 | 12.550 | 0.2246 | 0.5 | 0.5071 | 0.2286 | 4f5e971 |\n",
       "| qda | pca                   | 0.8361 | 0.8500 | 0.7083 | 0.9189 | 0.6273 | 27.520 | 0.3359 | 0.5 | 0.5982 | 0.2286 | 7519c68 |\n",
       "| qda | isomap                | 0.7869 | 0.7895 | 0.6250 | 0.8919 | 0.5169 | 13.750 | 0.2257 | 0.5 | 0.5000 | 0.2000 | b8974bb |\n",
       "| qda | lle                   | 0.7705 | 0.8125 | 0.5417 | 0.9189 | 0.4606 | 13.390 | 0.2033 | 0.5 | 0.4018 | 0.1482 | b329be3 |\n",
       "| qda | hessian lle           | 0.7377 | 0.6818 | 0.6250 | 0.8108 | 0.4358 |  7.143 | 0.1390 | 0.1 | 0.4000 | 0.2292 | ed6fa1b |\n",
       "| qda | modified lle          | 0.7869 | 0.7895 | 0.6250 | 0.8919 | 0.5169 | 13.750 | 0.2257 | 0.5 | 0.5857 | 0.2524 | ea3e489 |\n",
       "| qda | factor analysis       | 0.7869 | 0.7391 | 0.7083 | 0.8378 | 0.5462 | 12.550 | 0.2246 | 0.5 | 0.5143 | 0.2000 | 241633d |\n",
       "| qda | feature agglomeration | 0.7869 | 0.7895 | 0.6250 | 0.8919 | 0.5169 | 13.750 | 0.2257 | 0.5 | 0.6571 | 0.1571 | 44d8eda |\n",
       "| qda | nca                   | 0.8033 | 0.7727 | 0.7083 | 0.8649 | 0.5732 | 15.540 | 0.2565 | 0.5 | 0.5143 | 0.2000 | 32f0e7c |\n",
       "\n"
      ],
      "text/plain": [
       "   model preprocessing         accuracy precision sensitivity specificity\n",
       "1  rfc   robust scaling        0.8197   0.8421    0.6667      0.9189     \n",
       "2  rfc   standard scaling      0.8033   0.8000    0.6667      0.8919     \n",
       "3  rfc   pca                   0.8033   0.7727    0.7083      0.8649     \n",
       "4  rfc   isomap                0.7049   0.6071    0.7083      0.7027     \n",
       "5  rfc   lle                   0.7377   0.6538    0.7083      0.7568     \n",
       "6  rfc   feature agglomeration 0.7377   0.6538    0.7083      0.7568     \n",
       "7  rfc   nca                   0.6721   0.5588    0.7917      0.5946     \n",
       "8  rfc   factor analysis       0.7705   0.7273    0.6667      0.8378     \n",
       "9  etc   robust scaling        0.7541   0.6957    0.6667      0.8108     \n",
       "10 dtc   robust scaling        0.6066   0.5000    0.7083      0.5405     \n",
       "11 knn   robust scaling        0.7705   0.6923    0.7500      0.7838     \n",
       "12 rnc   robust scaling        0.7869   0.8667    0.5417      0.9459     \n",
       "13 gbc   robust scaling        0.7377   0.6538    0.7083      0.7568     \n",
       "14 lrc   robust scaling        0.8361   0.8500    0.7083      0.9189     \n",
       "15 lrc   standard scaling      0.7541   0.6800    0.7083      0.7838     \n",
       "16 lrc   pca                   0.8197   0.8095    0.7083      0.8919     \n",
       "17 lrc   isomap                0.8361   0.8500    0.7083      0.9189     \n",
       "18 lrc   lle                   0.8361   0.8500    0.7083      0.9189     \n",
       "19 lrc   hessian lle           0.8033   0.8000    0.6667      0.8919     \n",
       "20 lrc   modified lle          0.8525   0.8947    0.7083      0.9459     \n",
       "21 lrc   factor analysis       0.8033   0.7727    0.7083      0.8649     \n",
       "22 lrc   nca                   0.8361   0.8500    0.7083      0.9189     \n",
       "23 lda   robust scaling        0.7705   0.7083    0.7083      0.8108     \n",
       "24 qda   robust scaling        0.7869   0.7895    0.6250      0.8919     \n",
       "25 qda   standard scaling      0.7869   0.7391    0.7083      0.8378     \n",
       "26 qda   pca                   0.8361   0.8500    0.7083      0.9189     \n",
       "27 qda   isomap                0.7869   0.7895    0.6250      0.8919     \n",
       "28 qda   lle                   0.7705   0.8125    0.5417      0.9189     \n",
       "29 qda   hessian lle           0.7377   0.6818    0.6250      0.8108     \n",
       "30 qda   modified lle          0.7869   0.7895    0.6250      0.8919     \n",
       "31 qda   factor analysis       0.7869   0.7391    0.7083      0.8378     \n",
       "32 qda   feature agglomeration 0.7869   0.7895    0.6250      0.8919     \n",
       "33 qda   nca                   0.8033   0.7727    0.7083      0.8649     \n",
       "   informedness dor    ami    outlier informedness cv informedness\n",
       "1  0.5856       22.670     NA 0.5                  0.5143         \n",
       "2  0.5586       16.500 0.2582 0.5                  0.5143         \n",
       "3  0.5732       15.540 0.2565 0.5                  0.5071         \n",
       "4  0.4110        5.740 0.1113 0.3                  0.5119         \n",
       "5  0.4651        7.556 0.1494 0.1                  0.5786         \n",
       "6  0.4651        7.556 0.1494 0.3                  0.5143         \n",
       "7  0.3863        5.573 0.1004 0.3                  0.5071         \n",
       "8  0.5045       10.330 0.1929 0.5                  0.4476         \n",
       "9  0.4775        8.571     NA 0.5                  0.5000         \n",
       "10 0.2489        2.857     NA 0.3                  0.3333         \n",
       "11 0.5338       10.880     NA 0.5                  0.5143         \n",
       "12 0.4876       20.680     NA 0.5                  0.4000         \n",
       "13 0.4651        7.556     NA 0.3                  0.5143         \n",
       "14 0.6273       27.520     NA 0.5                  0.5310         \n",
       "15 0.4921        8.804 0.1717 0.5                  0.5143         \n",
       "16 0.6002       20.040 0.2931 0.5                  0.5429         \n",
       "17 0.6273       27.520 0.3359 0.5                  0.5143         \n",
       "18 0.6273       27.520 0.3359 0.5                  0.5310         \n",
       "19 0.5586       16.500 0.2582 0.5                  0.5071         \n",
       "20 0.6543       42.500 0.3875 0.5                  0.4857         \n",
       "21 0.5732       15.540 0.2565 0.5                  0.5143         \n",
       "22 0.6273       27.520 0.3359 0.5                  0.5310         \n",
       "23 0.5191       10.410     NA 0.5                  0.5071         \n",
       "24 0.5169       13.750     NA 0.5                  0.6571         \n",
       "25 0.5462       12.550 0.2246 0.5                  0.5071         \n",
       "26 0.6273       27.520 0.3359 0.5                  0.5982         \n",
       "27 0.5169       13.750 0.2257 0.5                  0.5000         \n",
       "28 0.4606       13.390 0.2033 0.5                  0.4018         \n",
       "29 0.4358        7.143 0.1390 0.1                  0.4000         \n",
       "30 0.5169       13.750 0.2257 0.5                  0.5857         \n",
       "31 0.5462       12.550 0.2246 0.5                  0.5143         \n",
       "32 0.5169       13.750 0.2257 0.5                  0.6571         \n",
       "33 0.5732       15.540 0.2565 0.5                  0.5143         \n",
       "   mad informedness commit hash\n",
       "1  0.2317           f8469be    \n",
       "2  0.2746           94c6579    \n",
       "3  0.2214           c34a598    \n",
       "4  0.2000           cb0728e    \n",
       "5  0.2619           f708b98    \n",
       "6  0.2000           3d44e37    \n",
       "7  0.1667           e9bdd96    \n",
       "8  0.2095           87cb944    \n",
       "9  0.1619           9f5b916    \n",
       "10 0.1738           8b723aa    \n",
       "11 0.2286           5fa0875    \n",
       "12 0.1321           d39c759    \n",
       "13 0.2603           ba7e053    \n",
       "14 0.2167           87fb70c    \n",
       "15 0.2000           558c2d3    \n",
       "16 0.2083           1516719    \n",
       "17 0.2603           b49fe61    \n",
       "18 0.2464           1866d34    \n",
       "19 0.2000           2834301    \n",
       "20 0.1762           a718db8    \n",
       "21 0.2464           5ca774d    \n",
       "22 0.2917           3ad5091    \n",
       "23 0.2536           cfc4f87    \n",
       "24 0.1571           eb89d93    \n",
       "25 0.2286           4f5e971    \n",
       "26 0.2286           7519c68    \n",
       "27 0.2000           b8974bb    \n",
       "28 0.1482           b329be3    \n",
       "29 0.2292           ed6fa1b    \n",
       "30 0.2524           ea3e489    \n",
       "31 0.2000           241633d    \n",
       "32 0.1571           44d8eda    \n",
       "33 0.2000           32f0e7c    "
      ]
     },
     "metadata": {},
     "output_type": "display_data"
    }
   ],
   "source": [
    "# Model Selection\n",
    "# ===============\n",
    "# This notebook compares the scores of different model algorithms, \n",
    "# preprocessing methods, and classification methods.\n",
    "#\n",
    "# The two best performing models are gradient boosting and radius neighbors.\n",
    "# Radius neighbors performs better on standard informedness, diagnostic odds\n",
    "# ratio, and outlier informedness. However, gradient boosting performs better \n",
    "# on cross-validation. This indicates that while radius neighbors performs\n",
    "# better on the limited amount of data reserved for validation, however,\n",
    "# gradient boosting appears to benefit more from increased data, which will\n",
    "# be advantageous when we combine the training and validation datasets.\n",
    "# Therefore, we choose gradient boosting with robust scaling as our model.\n",
    "#\n",
    "# Copyright 2020 Jerrad M. Genson\n",
    "#\n",
    "# This Source Code Form is subject to the terms of the Mozilla Public\n",
    "# License, v. 2.0. If a copy of the MPL was not distributed with this\n",
    "# file, You can obtain one at https://mozilla.org/MPL/2.0/.\n",
    "\n",
    "library(tidyverse)\n",
    "\n",
    "GIT_ROOT <- system2('git', args=c('rev-parse', '--show-toplevel'), stdout=TRUE)\n",
    "DATA <- file.path(GIT_ROOT, 'data')\n",
    "MODEL_DATA <- file.path(DATA, 'model_selection.csv')\n",
    "\n",
    "scores <- read_csv(MODEL_DATA)\n",
    "scores"
   ]
  },
  {
   "cell_type": "code",
   "execution_count": 2,
   "metadata": {},
   "outputs": [
    {
     "data": {
      "text/html": [
       "<table>\n",
       "<caption>A tibble: 1 × 13</caption>\n",
       "<thead>\n",
       "\t<tr><th scope=col>model</th><th scope=col>preprocessing</th><th scope=col>accuracy</th><th scope=col>precision</th><th scope=col>sensitivity</th><th scope=col>specificity</th><th scope=col>informedness</th><th scope=col>dor</th><th scope=col>ami</th><th scope=col>outlier informedness</th><th scope=col>cv informedness</th><th scope=col>mad informedness</th><th scope=col>commit hash</th></tr>\n",
       "\t<tr><th scope=col>&lt;chr&gt;</th><th scope=col>&lt;chr&gt;</th><th scope=col>&lt;dbl&gt;</th><th scope=col>&lt;dbl&gt;</th><th scope=col>&lt;dbl&gt;</th><th scope=col>&lt;dbl&gt;</th><th scope=col>&lt;dbl&gt;</th><th scope=col>&lt;dbl&gt;</th><th scope=col>&lt;dbl&gt;</th><th scope=col>&lt;dbl&gt;</th><th scope=col>&lt;dbl&gt;</th><th scope=col>&lt;dbl&gt;</th><th scope=col>&lt;chr&gt;</th></tr>\n",
       "</thead>\n",
       "<tbody>\n",
       "\t<tr><td>lrc</td><td>modified lle</td><td>0.8525</td><td>0.8947</td><td>0.7083</td><td>0.9459</td><td>0.6543</td><td>42.5</td><td>0.3875</td><td>0.5</td><td>0.4857</td><td>0.1762</td><td>a718db8</td></tr>\n",
       "</tbody>\n",
       "</table>\n"
      ],
      "text/latex": [
       "A tibble: 1 × 13\n",
       "\\begin{tabular}{lllllllllllll}\n",
       " model & preprocessing & accuracy & precision & sensitivity & specificity & informedness & dor & ami & outlier informedness & cv informedness & mad informedness & commit hash\\\\\n",
       " <chr> & <chr> & <dbl> & <dbl> & <dbl> & <dbl> & <dbl> & <dbl> & <dbl> & <dbl> & <dbl> & <dbl> & <chr>\\\\\n",
       "\\hline\n",
       "\t lrc & modified lle & 0.8525 & 0.8947 & 0.7083 & 0.9459 & 0.6543 & 42.5 & 0.3875 & 0.5 & 0.4857 & 0.1762 & a718db8\\\\\n",
       "\\end{tabular}\n"
      ],
      "text/markdown": [
       "\n",
       "A tibble: 1 × 13\n",
       "\n",
       "| model &lt;chr&gt; | preprocessing &lt;chr&gt; | accuracy &lt;dbl&gt; | precision &lt;dbl&gt; | sensitivity &lt;dbl&gt; | specificity &lt;dbl&gt; | informedness &lt;dbl&gt; | dor &lt;dbl&gt; | ami &lt;dbl&gt; | outlier informedness &lt;dbl&gt; | cv informedness &lt;dbl&gt; | mad informedness &lt;dbl&gt; | commit hash &lt;chr&gt; |\n",
       "|---|---|---|---|---|---|---|---|---|---|---|---|---|\n",
       "| lrc | modified lle | 0.8525 | 0.8947 | 0.7083 | 0.9459 | 0.6543 | 42.5 | 0.3875 | 0.5 | 0.4857 | 0.1762 | a718db8 |\n",
       "\n"
      ],
      "text/plain": [
       "  model preprocessing accuracy precision sensitivity specificity informedness\n",
       "1 lrc   modified lle  0.8525   0.8947    0.7083      0.9459      0.6543      \n",
       "  dor  ami    outlier informedness cv informedness mad informedness commit hash\n",
       "1 42.5 0.3875 0.5                  0.4857          0.1762           a718db8    "
      ]
     },
     "metadata": {},
     "output_type": "display_data"
    }
   ],
   "source": [
    "best_informedness <- scores[scores$informedness == max(scores$informedness), ]\n",
    "best_informedness"
   ]
  },
  {
   "cell_type": "code",
   "execution_count": 3,
   "metadata": {},
   "outputs": [
    {
     "data": {
      "text/html": [
       "<table>\n",
       "<caption>A tibble: 1 × 13</caption>\n",
       "<thead>\n",
       "\t<tr><th scope=col>model</th><th scope=col>preprocessing</th><th scope=col>accuracy</th><th scope=col>precision</th><th scope=col>sensitivity</th><th scope=col>specificity</th><th scope=col>informedness</th><th scope=col>dor</th><th scope=col>ami</th><th scope=col>outlier informedness</th><th scope=col>cv informedness</th><th scope=col>mad informedness</th><th scope=col>commit hash</th></tr>\n",
       "\t<tr><th scope=col>&lt;chr&gt;</th><th scope=col>&lt;chr&gt;</th><th scope=col>&lt;dbl&gt;</th><th scope=col>&lt;dbl&gt;</th><th scope=col>&lt;dbl&gt;</th><th scope=col>&lt;dbl&gt;</th><th scope=col>&lt;dbl&gt;</th><th scope=col>&lt;dbl&gt;</th><th scope=col>&lt;dbl&gt;</th><th scope=col>&lt;dbl&gt;</th><th scope=col>&lt;dbl&gt;</th><th scope=col>&lt;dbl&gt;</th><th scope=col>&lt;chr&gt;</th></tr>\n",
       "</thead>\n",
       "<tbody>\n",
       "\t<tr><td>lrc</td><td>modified lle</td><td>0.8525</td><td>0.8947</td><td>0.7083</td><td>0.9459</td><td>0.6543</td><td>42.5</td><td>0.3875</td><td>0.5</td><td>0.4857</td><td>0.1762</td><td>a718db8</td></tr>\n",
       "</tbody>\n",
       "</table>\n"
      ],
      "text/latex": [
       "A tibble: 1 × 13\n",
       "\\begin{tabular}{lllllllllllll}\n",
       " model & preprocessing & accuracy & precision & sensitivity & specificity & informedness & dor & ami & outlier informedness & cv informedness & mad informedness & commit hash\\\\\n",
       " <chr> & <chr> & <dbl> & <dbl> & <dbl> & <dbl> & <dbl> & <dbl> & <dbl> & <dbl> & <dbl> & <dbl> & <chr>\\\\\n",
       "\\hline\n",
       "\t lrc & modified lle & 0.8525 & 0.8947 & 0.7083 & 0.9459 & 0.6543 & 42.5 & 0.3875 & 0.5 & 0.4857 & 0.1762 & a718db8\\\\\n",
       "\\end{tabular}\n"
      ],
      "text/markdown": [
       "\n",
       "A tibble: 1 × 13\n",
       "\n",
       "| model &lt;chr&gt; | preprocessing &lt;chr&gt; | accuracy &lt;dbl&gt; | precision &lt;dbl&gt; | sensitivity &lt;dbl&gt; | specificity &lt;dbl&gt; | informedness &lt;dbl&gt; | dor &lt;dbl&gt; | ami &lt;dbl&gt; | outlier informedness &lt;dbl&gt; | cv informedness &lt;dbl&gt; | mad informedness &lt;dbl&gt; | commit hash &lt;chr&gt; |\n",
       "|---|---|---|---|---|---|---|---|---|---|---|---|---|\n",
       "| lrc | modified lle | 0.8525 | 0.8947 | 0.7083 | 0.9459 | 0.6543 | 42.5 | 0.3875 | 0.5 | 0.4857 | 0.1762 | a718db8 |\n",
       "\n"
      ],
      "text/plain": [
       "  model preprocessing accuracy precision sensitivity specificity informedness\n",
       "1 lrc   modified lle  0.8525   0.8947    0.7083      0.9459      0.6543      \n",
       "  dor  ami    outlier informedness cv informedness mad informedness commit hash\n",
       "1 42.5 0.3875 0.5                  0.4857          0.1762           a718db8    "
      ]
     },
     "metadata": {},
     "output_type": "display_data"
    }
   ],
   "source": [
    "best_dor <- scores[scores$dor == max(scores$dor), ]\n",
    "best_dor"
   ]
  },
  {
   "cell_type": "code",
   "execution_count": 4,
   "metadata": {},
   "outputs": [
    {
     "data": {
      "text/html": [
       "<table>\n",
       "<caption>A tibble: 1 × 13</caption>\n",
       "<thead>\n",
       "\t<tr><th scope=col>model</th><th scope=col>preprocessing</th><th scope=col>accuracy</th><th scope=col>precision</th><th scope=col>sensitivity</th><th scope=col>specificity</th><th scope=col>informedness</th><th scope=col>dor</th><th scope=col>ami</th><th scope=col>outlier informedness</th><th scope=col>cv informedness</th><th scope=col>mad informedness</th><th scope=col>commit hash</th></tr>\n",
       "\t<tr><th scope=col>&lt;chr&gt;</th><th scope=col>&lt;chr&gt;</th><th scope=col>&lt;dbl&gt;</th><th scope=col>&lt;dbl&gt;</th><th scope=col>&lt;dbl&gt;</th><th scope=col>&lt;dbl&gt;</th><th scope=col>&lt;dbl&gt;</th><th scope=col>&lt;dbl&gt;</th><th scope=col>&lt;dbl&gt;</th><th scope=col>&lt;dbl&gt;</th><th scope=col>&lt;dbl&gt;</th><th scope=col>&lt;dbl&gt;</th><th scope=col>&lt;chr&gt;</th></tr>\n",
       "</thead>\n",
       "<tbody>\n",
       "\t<tr><td>rfc</td><td>nca</td><td>0.6721</td><td>0.5588</td><td>0.7917</td><td>0.5946</td><td>0.3863</td><td>5.573</td><td>0.1004</td><td>0.3</td><td>0.5071</td><td>0.1667</td><td>e9bdd96</td></tr>\n",
       "</tbody>\n",
       "</table>\n"
      ],
      "text/latex": [
       "A tibble: 1 × 13\n",
       "\\begin{tabular}{lllllllllllll}\n",
       " model & preprocessing & accuracy & precision & sensitivity & specificity & informedness & dor & ami & outlier informedness & cv informedness & mad informedness & commit hash\\\\\n",
       " <chr> & <chr> & <dbl> & <dbl> & <dbl> & <dbl> & <dbl> & <dbl> & <dbl> & <dbl> & <dbl> & <dbl> & <chr>\\\\\n",
       "\\hline\n",
       "\t rfc & nca & 0.6721 & 0.5588 & 0.7917 & 0.5946 & 0.3863 & 5.573 & 0.1004 & 0.3 & 0.5071 & 0.1667 & e9bdd96\\\\\n",
       "\\end{tabular}\n"
      ],
      "text/markdown": [
       "\n",
       "A tibble: 1 × 13\n",
       "\n",
       "| model &lt;chr&gt; | preprocessing &lt;chr&gt; | accuracy &lt;dbl&gt; | precision &lt;dbl&gt; | sensitivity &lt;dbl&gt; | specificity &lt;dbl&gt; | informedness &lt;dbl&gt; | dor &lt;dbl&gt; | ami &lt;dbl&gt; | outlier informedness &lt;dbl&gt; | cv informedness &lt;dbl&gt; | mad informedness &lt;dbl&gt; | commit hash &lt;chr&gt; |\n",
       "|---|---|---|---|---|---|---|---|---|---|---|---|---|\n",
       "| rfc | nca | 0.6721 | 0.5588 | 0.7917 | 0.5946 | 0.3863 | 5.573 | 0.1004 | 0.3 | 0.5071 | 0.1667 | e9bdd96 |\n",
       "\n"
      ],
      "text/plain": [
       "  model preprocessing accuracy precision sensitivity specificity informedness\n",
       "1 rfc   nca           0.6721   0.5588    0.7917      0.5946      0.3863      \n",
       "  dor   ami    outlier informedness cv informedness mad informedness\n",
       "1 5.573 0.1004 0.3                  0.5071          0.1667          \n",
       "  commit hash\n",
       "1 e9bdd96    "
      ]
     },
     "metadata": {},
     "output_type": "display_data"
    }
   ],
   "source": [
    "best_sensitivity <- scores[scores$sensitivity == max(scores$sensitivity), ]\n",
    "best_sensitivity"
   ]
  },
  {
   "cell_type": "code",
   "execution_count": 5,
   "metadata": {},
   "outputs": [
    {
     "data": {
      "text/html": [
       "<table>\n",
       "<caption>A tibble: 2 × 13</caption>\n",
       "<thead>\n",
       "\t<tr><th scope=col>model</th><th scope=col>preprocessing</th><th scope=col>accuracy</th><th scope=col>precision</th><th scope=col>sensitivity</th><th scope=col>specificity</th><th scope=col>informedness</th><th scope=col>dor</th><th scope=col>ami</th><th scope=col>outlier informedness</th><th scope=col>cv informedness</th><th scope=col>mad informedness</th><th scope=col>commit hash</th></tr>\n",
       "\t<tr><th scope=col>&lt;chr&gt;</th><th scope=col>&lt;chr&gt;</th><th scope=col>&lt;dbl&gt;</th><th scope=col>&lt;dbl&gt;</th><th scope=col>&lt;dbl&gt;</th><th scope=col>&lt;dbl&gt;</th><th scope=col>&lt;dbl&gt;</th><th scope=col>&lt;dbl&gt;</th><th scope=col>&lt;dbl&gt;</th><th scope=col>&lt;dbl&gt;</th><th scope=col>&lt;dbl&gt;</th><th scope=col>&lt;dbl&gt;</th><th scope=col>&lt;chr&gt;</th></tr>\n",
       "</thead>\n",
       "<tbody>\n",
       "\t<tr><td>qda</td><td>robust scaling       </td><td>0.7869</td><td>0.7895</td><td>0.625</td><td>0.8919</td><td>0.5169</td><td>13.75</td><td>    NA</td><td>0.5</td><td>0.6571</td><td>0.1571</td><td>eb89d93</td></tr>\n",
       "\t<tr><td>qda</td><td>feature agglomeration</td><td>0.7869</td><td>0.7895</td><td>0.625</td><td>0.8919</td><td>0.5169</td><td>13.75</td><td>0.2257</td><td>0.5</td><td>0.6571</td><td>0.1571</td><td>44d8eda</td></tr>\n",
       "</tbody>\n",
       "</table>\n"
      ],
      "text/latex": [
       "A tibble: 2 × 13\n",
       "\\begin{tabular}{lllllllllllll}\n",
       " model & preprocessing & accuracy & precision & sensitivity & specificity & informedness & dor & ami & outlier informedness & cv informedness & mad informedness & commit hash\\\\\n",
       " <chr> & <chr> & <dbl> & <dbl> & <dbl> & <dbl> & <dbl> & <dbl> & <dbl> & <dbl> & <dbl> & <dbl> & <chr>\\\\\n",
       "\\hline\n",
       "\t qda & robust scaling        & 0.7869 & 0.7895 & 0.625 & 0.8919 & 0.5169 & 13.75 &     NA & 0.5 & 0.6571 & 0.1571 & eb89d93\\\\\n",
       "\t qda & feature agglomeration & 0.7869 & 0.7895 & 0.625 & 0.8919 & 0.5169 & 13.75 & 0.2257 & 0.5 & 0.6571 & 0.1571 & 44d8eda\\\\\n",
       "\\end{tabular}\n"
      ],
      "text/markdown": [
       "\n",
       "A tibble: 2 × 13\n",
       "\n",
       "| model &lt;chr&gt; | preprocessing &lt;chr&gt; | accuracy &lt;dbl&gt; | precision &lt;dbl&gt; | sensitivity &lt;dbl&gt; | specificity &lt;dbl&gt; | informedness &lt;dbl&gt; | dor &lt;dbl&gt; | ami &lt;dbl&gt; | outlier informedness &lt;dbl&gt; | cv informedness &lt;dbl&gt; | mad informedness &lt;dbl&gt; | commit hash &lt;chr&gt; |\n",
       "|---|---|---|---|---|---|---|---|---|---|---|---|---|\n",
       "| qda | robust scaling        | 0.7869 | 0.7895 | 0.625 | 0.8919 | 0.5169 | 13.75 |     NA | 0.5 | 0.6571 | 0.1571 | eb89d93 |\n",
       "| qda | feature agglomeration | 0.7869 | 0.7895 | 0.625 | 0.8919 | 0.5169 | 13.75 | 0.2257 | 0.5 | 0.6571 | 0.1571 | 44d8eda |\n",
       "\n"
      ],
      "text/plain": [
       "  model preprocessing         accuracy precision sensitivity specificity\n",
       "1 qda   robust scaling        0.7869   0.7895    0.625       0.8919     \n",
       "2 qda   feature agglomeration 0.7869   0.7895    0.625       0.8919     \n",
       "  informedness dor   ami    outlier informedness cv informedness\n",
       "1 0.5169       13.75     NA 0.5                  0.6571         \n",
       "2 0.5169       13.75 0.2257 0.5                  0.6571         \n",
       "  mad informedness commit hash\n",
       "1 0.1571           eb89d93    \n",
       "2 0.1571           44d8eda    "
      ]
     },
     "metadata": {},
     "output_type": "display_data"
    }
   ],
   "source": [
    "best_cv_informedness <- scores[scores$`cv informedness` == max(scores$`cv informedness`), ]\n",
    "best_cv_informedness"
   ]
  },
  {
   "cell_type": "code",
   "execution_count": 6,
   "metadata": {},
   "outputs": [
    {
     "data": {
      "text/html": [
       "<table>\n",
       "<caption>A tibble: 5 × 13</caption>\n",
       "<thead>\n",
       "\t<tr><th scope=col>model</th><th scope=col>preprocessing</th><th scope=col>accuracy</th><th scope=col>precision</th><th scope=col>sensitivity</th><th scope=col>specificity</th><th scope=col>informedness</th><th scope=col>dor</th><th scope=col>ami</th><th scope=col>outlier informedness</th><th scope=col>cv informedness</th><th scope=col>mad informedness</th><th scope=col>commit hash</th></tr>\n",
       "\t<tr><th scope=col>&lt;chr&gt;</th><th scope=col>&lt;chr&gt;</th><th scope=col>&lt;dbl&gt;</th><th scope=col>&lt;dbl&gt;</th><th scope=col>&lt;dbl&gt;</th><th scope=col>&lt;dbl&gt;</th><th scope=col>&lt;dbl&gt;</th><th scope=col>&lt;dbl&gt;</th><th scope=col>&lt;dbl&gt;</th><th scope=col>&lt;dbl&gt;</th><th scope=col>&lt;dbl&gt;</th><th scope=col>&lt;dbl&gt;</th><th scope=col>&lt;chr&gt;</th></tr>\n",
       "</thead>\n",
       "<tbody>\n",
       "\t<tr><td>lrc</td><td>robust scaling</td><td>0.8361</td><td>0.85</td><td>0.7083</td><td>0.9189</td><td>0.6273</td><td>27.52</td><td>    NA</td><td>0.5</td><td>0.5310</td><td>0.2167</td><td>87fb70c</td></tr>\n",
       "\t<tr><td>lrc</td><td>isomap        </td><td>0.8361</td><td>0.85</td><td>0.7083</td><td>0.9189</td><td>0.6273</td><td>27.52</td><td>0.3359</td><td>0.5</td><td>0.5143</td><td>0.2603</td><td>b49fe61</td></tr>\n",
       "\t<tr><td>lrc</td><td>lle           </td><td>0.8361</td><td>0.85</td><td>0.7083</td><td>0.9189</td><td>0.6273</td><td>27.52</td><td>0.3359</td><td>0.5</td><td>0.5310</td><td>0.2464</td><td>1866d34</td></tr>\n",
       "\t<tr><td>lrc</td><td>nca           </td><td>0.8361</td><td>0.85</td><td>0.7083</td><td>0.9189</td><td>0.6273</td><td>27.52</td><td>0.3359</td><td>0.5</td><td>0.5310</td><td>0.2917</td><td>3ad5091</td></tr>\n",
       "\t<tr><td>qda</td><td>pca           </td><td>0.8361</td><td>0.85</td><td>0.7083</td><td>0.9189</td><td>0.6273</td><td>27.52</td><td>0.3359</td><td>0.5</td><td>0.5982</td><td>0.2286</td><td>7519c68</td></tr>\n",
       "</tbody>\n",
       "</table>\n"
      ],
      "text/latex": [
       "A tibble: 5 × 13\n",
       "\\begin{tabular}{lllllllllllll}\n",
       " model & preprocessing & accuracy & precision & sensitivity & specificity & informedness & dor & ami & outlier informedness & cv informedness & mad informedness & commit hash\\\\\n",
       " <chr> & <chr> & <dbl> & <dbl> & <dbl> & <dbl> & <dbl> & <dbl> & <dbl> & <dbl> & <dbl> & <dbl> & <chr>\\\\\n",
       "\\hline\n",
       "\t lrc & robust scaling & 0.8361 & 0.85 & 0.7083 & 0.9189 & 0.6273 & 27.52 &     NA & 0.5 & 0.5310 & 0.2167 & 87fb70c\\\\\n",
       "\t lrc & isomap         & 0.8361 & 0.85 & 0.7083 & 0.9189 & 0.6273 & 27.52 & 0.3359 & 0.5 & 0.5143 & 0.2603 & b49fe61\\\\\n",
       "\t lrc & lle            & 0.8361 & 0.85 & 0.7083 & 0.9189 & 0.6273 & 27.52 & 0.3359 & 0.5 & 0.5310 & 0.2464 & 1866d34\\\\\n",
       "\t lrc & nca            & 0.8361 & 0.85 & 0.7083 & 0.9189 & 0.6273 & 27.52 & 0.3359 & 0.5 & 0.5310 & 0.2917 & 3ad5091\\\\\n",
       "\t qda & pca            & 0.8361 & 0.85 & 0.7083 & 0.9189 & 0.6273 & 27.52 & 0.3359 & 0.5 & 0.5982 & 0.2286 & 7519c68\\\\\n",
       "\\end{tabular}\n"
      ],
      "text/markdown": [
       "\n",
       "A tibble: 5 × 13\n",
       "\n",
       "| model &lt;chr&gt; | preprocessing &lt;chr&gt; | accuracy &lt;dbl&gt; | precision &lt;dbl&gt; | sensitivity &lt;dbl&gt; | specificity &lt;dbl&gt; | informedness &lt;dbl&gt; | dor &lt;dbl&gt; | ami &lt;dbl&gt; | outlier informedness &lt;dbl&gt; | cv informedness &lt;dbl&gt; | mad informedness &lt;dbl&gt; | commit hash &lt;chr&gt; |\n",
       "|---|---|---|---|---|---|---|---|---|---|---|---|---|\n",
       "| lrc | robust scaling | 0.8361 | 0.85 | 0.7083 | 0.9189 | 0.6273 | 27.52 |     NA | 0.5 | 0.5310 | 0.2167 | 87fb70c |\n",
       "| lrc | isomap         | 0.8361 | 0.85 | 0.7083 | 0.9189 | 0.6273 | 27.52 | 0.3359 | 0.5 | 0.5143 | 0.2603 | b49fe61 |\n",
       "| lrc | lle            | 0.8361 | 0.85 | 0.7083 | 0.9189 | 0.6273 | 27.52 | 0.3359 | 0.5 | 0.5310 | 0.2464 | 1866d34 |\n",
       "| lrc | nca            | 0.8361 | 0.85 | 0.7083 | 0.9189 | 0.6273 | 27.52 | 0.3359 | 0.5 | 0.5310 | 0.2917 | 3ad5091 |\n",
       "| qda | pca            | 0.8361 | 0.85 | 0.7083 | 0.9189 | 0.6273 | 27.52 | 0.3359 | 0.5 | 0.5982 | 0.2286 | 7519c68 |\n",
       "\n"
      ],
      "text/plain": [
       "  model preprocessing  accuracy precision sensitivity specificity informedness\n",
       "1 lrc   robust scaling 0.8361   0.85      0.7083      0.9189      0.6273      \n",
       "2 lrc   isomap         0.8361   0.85      0.7083      0.9189      0.6273      \n",
       "3 lrc   lle            0.8361   0.85      0.7083      0.9189      0.6273      \n",
       "4 lrc   nca            0.8361   0.85      0.7083      0.9189      0.6273      \n",
       "5 qda   pca            0.8361   0.85      0.7083      0.9189      0.6273      \n",
       "  dor   ami    outlier informedness cv informedness mad informedness\n",
       "1 27.52     NA 0.5                  0.5310          0.2167          \n",
       "2 27.52 0.3359 0.5                  0.5143          0.2603          \n",
       "3 27.52 0.3359 0.5                  0.5310          0.2464          \n",
       "4 27.52 0.3359 0.5                  0.5310          0.2917          \n",
       "5 27.52 0.3359 0.5                  0.5982          0.2286          \n",
       "  commit hash\n",
       "1 87fb70c    \n",
       "2 b49fe61    \n",
       "3 1866d34    \n",
       "4 3ad5091    \n",
       "5 7519c68    "
      ]
     },
     "metadata": {},
     "output_type": "display_data"
    }
   ],
   "source": [
    "second_best_informedness <- scores[scores$informedness == unique(sort(scores$informedness, TRUE))[2], ]\n",
    "second_best_informedness"
   ]
  },
  {
   "cell_type": "code",
   "execution_count": 7,
   "metadata": {},
   "outputs": [
    {
     "data": {
      "text/html": [
       "<table>\n",
       "<caption>A tibble: 1 × 13</caption>\n",
       "<thead>\n",
       "\t<tr><th scope=col>model</th><th scope=col>preprocessing</th><th scope=col>accuracy</th><th scope=col>precision</th><th scope=col>sensitivity</th><th scope=col>specificity</th><th scope=col>informedness</th><th scope=col>dor</th><th scope=col>ami</th><th scope=col>outlier informedness</th><th scope=col>cv informedness</th><th scope=col>mad informedness</th><th scope=col>commit hash</th></tr>\n",
       "\t<tr><th scope=col>&lt;chr&gt;</th><th scope=col>&lt;chr&gt;</th><th scope=col>&lt;dbl&gt;</th><th scope=col>&lt;dbl&gt;</th><th scope=col>&lt;dbl&gt;</th><th scope=col>&lt;dbl&gt;</th><th scope=col>&lt;dbl&gt;</th><th scope=col>&lt;dbl&gt;</th><th scope=col>&lt;dbl&gt;</th><th scope=col>&lt;dbl&gt;</th><th scope=col>&lt;dbl&gt;</th><th scope=col>&lt;dbl&gt;</th><th scope=col>&lt;chr&gt;</th></tr>\n",
       "</thead>\n",
       "<tbody>\n",
       "\t<tr><td>lrc</td><td>pca</td><td>0.8197</td><td>0.8095</td><td>0.7083</td><td>0.8919</td><td>0.6002</td><td>20.04</td><td>0.2931</td><td>0.5</td><td>0.5429</td><td>0.2083</td><td>1516719</td></tr>\n",
       "</tbody>\n",
       "</table>\n"
      ],
      "text/latex": [
       "A tibble: 1 × 13\n",
       "\\begin{tabular}{lllllllllllll}\n",
       " model & preprocessing & accuracy & precision & sensitivity & specificity & informedness & dor & ami & outlier informedness & cv informedness & mad informedness & commit hash\\\\\n",
       " <chr> & <chr> & <dbl> & <dbl> & <dbl> & <dbl> & <dbl> & <dbl> & <dbl> & <dbl> & <dbl> & <dbl> & <chr>\\\\\n",
       "\\hline\n",
       "\t lrc & pca & 0.8197 & 0.8095 & 0.7083 & 0.8919 & 0.6002 & 20.04 & 0.2931 & 0.5 & 0.5429 & 0.2083 & 1516719\\\\\n",
       "\\end{tabular}\n"
      ],
      "text/markdown": [
       "\n",
       "A tibble: 1 × 13\n",
       "\n",
       "| model &lt;chr&gt; | preprocessing &lt;chr&gt; | accuracy &lt;dbl&gt; | precision &lt;dbl&gt; | sensitivity &lt;dbl&gt; | specificity &lt;dbl&gt; | informedness &lt;dbl&gt; | dor &lt;dbl&gt; | ami &lt;dbl&gt; | outlier informedness &lt;dbl&gt; | cv informedness &lt;dbl&gt; | mad informedness &lt;dbl&gt; | commit hash &lt;chr&gt; |\n",
       "|---|---|---|---|---|---|---|---|---|---|---|---|---|\n",
       "| lrc | pca | 0.8197 | 0.8095 | 0.7083 | 0.8919 | 0.6002 | 20.04 | 0.2931 | 0.5 | 0.5429 | 0.2083 | 1516719 |\n",
       "\n"
      ],
      "text/plain": [
       "  model preprocessing accuracy precision sensitivity specificity informedness\n",
       "1 lrc   pca           0.8197   0.8095    0.7083      0.8919      0.6002      \n",
       "  dor   ami    outlier informedness cv informedness mad informedness\n",
       "1 20.04 0.2931 0.5                  0.5429          0.2083          \n",
       "  commit hash\n",
       "1 1516719    "
      ]
     },
     "metadata": {},
     "output_type": "display_data"
    }
   ],
   "source": [
    "third_best_informedness <- scores[scores$informedness == unique(sort(scores$informedness, TRUE))[3], ]\n",
    "third_best_informedness"
   ]
  },
  {
   "cell_type": "code",
   "execution_count": null,
   "metadata": {},
   "outputs": [],
   "source": []
  }
 ],
 "metadata": {
  "kernelspec": {
   "display_name": "R",
   "language": "R",
   "name": "ir"
  },
  "language_info": {
   "codemirror_mode": "r",
   "file_extension": ".r",
   "mimetype": "text/x-r-source",
   "name": "R",
   "pygments_lexer": "r",
   "version": "3.6.3"
  }
 },
 "nbformat": 4,
 "nbformat_minor": 4
}
