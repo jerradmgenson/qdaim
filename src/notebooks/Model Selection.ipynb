{
 "cells": [
  {
   "cell_type": "code",
   "execution_count": 1,
   "metadata": {},
   "outputs": [
    {
     "name": "stderr",
     "output_type": "stream",
     "text": [
      "── \u001b[1mAttaching packages\u001b[22m ───────────────────────────────────────────────────────────────────────────────────────────────────────────────────────────────────────────────────────────────────────────────────────────────────── tidyverse 1.3.0 ──\n",
      "\n",
      "\u001b[32m✔\u001b[39m \u001b[34mggplot2\u001b[39m 3.3.2     \u001b[32m✔\u001b[39m \u001b[34mpurrr  \u001b[39m 0.3.4\n",
      "\u001b[32m✔\u001b[39m \u001b[34mtibble \u001b[39m 3.0.4     \u001b[32m✔\u001b[39m \u001b[34mdplyr  \u001b[39m 1.0.2\n",
      "\u001b[32m✔\u001b[39m \u001b[34mtidyr  \u001b[39m 1.1.2     \u001b[32m✔\u001b[39m \u001b[34mstringr\u001b[39m 1.4.0\n",
      "\u001b[32m✔\u001b[39m \u001b[34mreadr  \u001b[39m 1.4.0     \u001b[32m✔\u001b[39m \u001b[34mforcats\u001b[39m 0.5.0\n",
      "\n",
      "── \u001b[1mConflicts\u001b[22m ──────────────────────────────────────────────────────────────────────────────────────────────────────────────────────────────────────────────────────────────────────────────────────────────────────── tidyverse_conflicts() ──\n",
      "\u001b[31m✖\u001b[39m \u001b[34mdplyr\u001b[39m::\u001b[32mfilter()\u001b[39m masks \u001b[34mstats\u001b[39m::filter()\n",
      "\u001b[31m✖\u001b[39m \u001b[34mdplyr\u001b[39m::\u001b[32mlag()\u001b[39m    masks \u001b[34mstats\u001b[39m::lag()\n",
      "\n",
      "\n",
      "\u001b[36m──\u001b[39m \u001b[1m\u001b[1mColumn specification\u001b[1m\u001b[22m \u001b[36m──────────────────────────────────────────────────────────────────────────────────────────────────────────────────────────────────────────────────────────────────────────────────────────────────────────────────────\u001b[39m\n",
      "cols(\n",
      "  model = \u001b[31mcol_character()\u001b[39m,\n",
      "  preprocessing = \u001b[31mcol_character()\u001b[39m,\n",
      "  accuracy = \u001b[32mcol_double()\u001b[39m,\n",
      "  precision = \u001b[32mcol_double()\u001b[39m,\n",
      "  sensitivity = \u001b[32mcol_double()\u001b[39m,\n",
      "  specificity = \u001b[32mcol_double()\u001b[39m,\n",
      "  informedness = \u001b[32mcol_double()\u001b[39m,\n",
      "  dor = \u001b[32mcol_double()\u001b[39m,\n",
      "  mcc = \u001b[32mcol_double()\u001b[39m,\n",
      "  `outlier informedness` = \u001b[32mcol_double()\u001b[39m,\n",
      "  `cv informedness` = \u001b[32mcol_double()\u001b[39m,\n",
      "  `mad informedness` = \u001b[32mcol_double()\u001b[39m,\n",
      "  `commit hash` = \u001b[31mcol_character()\u001b[39m\n",
      ")\n",
      "\n",
      "\n"
     ]
    },
    {
     "data": {
      "text/html": [
       "<table>\n",
       "<caption>A spec_tbl_df: 19 × 13</caption>\n",
       "<thead>\n",
       "\t<tr><th scope=col>model</th><th scope=col>preprocessing</th><th scope=col>accuracy</th><th scope=col>precision</th><th scope=col>sensitivity</th><th scope=col>specificity</th><th scope=col>informedness</th><th scope=col>dor</th><th scope=col>mcc</th><th scope=col>outlier informedness</th><th scope=col>cv informedness</th><th scope=col>mad informedness</th><th scope=col>commit hash</th></tr>\n",
       "\t<tr><th scope=col>&lt;chr&gt;</th><th scope=col>&lt;chr&gt;</th><th scope=col>&lt;dbl&gt;</th><th scope=col>&lt;dbl&gt;</th><th scope=col>&lt;dbl&gt;</th><th scope=col>&lt;dbl&gt;</th><th scope=col>&lt;dbl&gt;</th><th scope=col>&lt;dbl&gt;</th><th scope=col>&lt;dbl&gt;</th><th scope=col>&lt;dbl&gt;</th><th scope=col>&lt;dbl&gt;</th><th scope=col>&lt;dbl&gt;</th><th scope=col>&lt;chr&gt;</th></tr>\n",
       "</thead>\n",
       "<tbody>\n",
       "\t<tr><td>gbc</td><td>none                    </td><td>0.8172</td><td>0.7719</td><td>0.9167</td><td>0.7111</td><td>0.6278</td><td>27.080</td><td>0.6441</td><td> 0.26670</td><td>0.6166</td><td>0.09018</td><td>d574e30</td></tr>\n",
       "\t<tr><td>gbc</td><td>robust scaling          </td><td>0.8387</td><td>0.8113</td><td>0.8958</td><td>0.7778</td><td>0.6736</td><td>30.100</td><td>0.6799</td><td> 0.43330</td><td>0.6753</td><td>0.07386</td><td>26fd6ad</td></tr>\n",
       "\t<tr><td>gbc</td><td>standard scaling        </td><td>0.8387</td><td>0.8000</td><td>0.9167</td><td>0.7556</td><td>0.6722</td><td>34.000</td><td>0.6834</td><td> 0.26670</td><td>0.6200</td><td>0.11860</td><td>7076219</td></tr>\n",
       "\t<tr><td>gbc</td><td>pca                     </td><td>0.8065</td><td>0.7778</td><td>0.8750</td><td>0.7333</td><td>0.6083</td><td>19.250</td><td>0.6161</td><td> 0.43330</td><td>0.6119</td><td>0.06385</td><td>1e0e6d0</td></tr>\n",
       "\t<tr><td>gbc</td><td>isomap                  </td><td>0.7634</td><td>0.7708</td><td>0.7708</td><td>0.7556</td><td>0.5264</td><td>10.400</td><td>0.5264</td><td> 0.10000</td><td>0.5917</td><td>0.10020</td><td>1a1bb28</td></tr>\n",
       "\t<tr><td>gbc</td><td>locally linear embedding</td><td>0.7527</td><td>0.7358</td><td>0.8125</td><td>0.6889</td><td>0.5014</td><td> 9.595</td><td>0.5061</td><td>-0.10000</td><td>0.5755</td><td>0.09754</td><td>6596248</td></tr>\n",
       "\t<tr><td>gbc</td><td>hessian lle             </td><td>0.7312</td><td>0.7170</td><td>0.7917</td><td>0.6667</td><td>0.4583</td><td> 7.600</td><td>0.4626</td><td> 0.06667</td><td>0.5755</td><td>0.10640</td><td>e46e66b</td></tr>\n",
       "\t<tr><td>gbc</td><td>modified lle            </td><td>0.8065</td><td>0.7885</td><td>0.8542</td><td>0.7556</td><td>0.6097</td><td>18.100</td><td>0.6137</td><td> 0.06667</td><td>0.5528</td><td>0.13060</td><td>f905831</td></tr>\n",
       "\t<tr><td>gbc</td><td>factor analysis         </td><td>0.7634</td><td>0.7500</td><td>0.8125</td><td>0.7111</td><td>0.5236</td><td>10.670</td><td>0.5270</td><td> 0.23810</td><td>0.6450</td><td>0.12070</td><td>24f9b64</td></tr>\n",
       "\t<tr><td>gbc</td><td>feature agglomeration   </td><td>0.8387</td><td>0.8000</td><td>0.9167</td><td>0.7556</td><td>0.6722</td><td>34.000</td><td>0.6834</td><td> 0.43330</td><td>0.6417</td><td>0.11820</td><td>1848532</td></tr>\n",
       "\t<tr><td>gbc</td><td>nca                     </td><td>0.7742</td><td>0.7647</td><td>0.8125</td><td>0.7333</td><td>0.5458</td><td>11.920</td><td>0.5481</td><td> 0.43330</td><td>0.5690</td><td>0.10120</td><td>bfdcbc5</td></tr>\n",
       "\t<tr><td>rfc</td><td>robust scaling          </td><td>0.7957</td><td>0.7736</td><td>0.8542</td><td>0.7333</td><td>0.5875</td><td>16.110</td><td>0.5930</td><td> 0.38100</td><td>0.6460</td><td>0.13050</td><td>68eb4d7</td></tr>\n",
       "\t<tr><td>etc</td><td>robust scaling          </td><td>0.8065</td><td>0.7778</td><td>0.8750</td><td>0.7333</td><td>0.6083</td><td>19.250</td><td>0.6161</td><td> 0.50000</td><td>0.5933</td><td>0.09078</td><td>39ce70a</td></tr>\n",
       "\t<tr><td>dtc</td><td>robust scaling          </td><td>0.7634</td><td>0.7321</td><td>0.8542</td><td>0.6667</td><td>0.5208</td><td>11.710</td><td>0.5318</td><td> 0.33330</td><td>0.5596</td><td>0.11810</td><td>754feba</td></tr>\n",
       "\t<tr><td>knn</td><td>robust scaling          </td><td>0.8280</td><td>0.7963</td><td>0.8958</td><td>0.7556</td><td>0.6514</td><td>26.580</td><td>0.6597</td><td> 0.33330</td><td>0.6238</td><td>0.10210</td><td>cae025e</td></tr>\n",
       "\t<tr><td>rnc</td><td>robust scaling          </td><td>0.8495</td><td>0.8269</td><td>0.8958</td><td>0.8000</td><td>0.6958</td><td>34.400</td><td>0.7004</td><td> 0.50000</td><td>0.6190</td><td>0.07159</td><td>195fd9e</td></tr>\n",
       "\t<tr><td>lrc</td><td>robust scaling          </td><td>0.7849</td><td>0.7692</td><td>0.8333</td><td>0.7333</td><td>0.5667</td><td>13.750</td><td>0.5704</td><td> 0.33330</td><td>0.6531</td><td>0.07413</td><td>070d262</td></tr>\n",
       "\t<tr><td>lda</td><td>robust scaling          </td><td>0.7957</td><td>0.7736</td><td>0.8542</td><td>0.7333</td><td>0.5875</td><td>16.110</td><td>0.5930</td><td> 0.33330</td><td>0.5755</td><td>0.14570</td><td>34389f6</td></tr>\n",
       "\t<tr><td>qda</td><td>robust scaling          </td><td>0.8280</td><td>0.8077</td><td>0.8750</td><td>0.7778</td><td>0.6528</td><td>24.500</td><td>0.6571</td><td> 0.33330</td><td>0.6337</td><td>0.12210</td><td>7e747a7</td></tr>\n",
       "</tbody>\n",
       "</table>\n"
      ],
      "text/latex": [
       "A spec\\_tbl\\_df: 19 × 13\n",
       "\\begin{tabular}{lllllllllllll}\n",
       " model & preprocessing & accuracy & precision & sensitivity & specificity & informedness & dor & mcc & outlier informedness & cv informedness & mad informedness & commit hash\\\\\n",
       " <chr> & <chr> & <dbl> & <dbl> & <dbl> & <dbl> & <dbl> & <dbl> & <dbl> & <dbl> & <dbl> & <dbl> & <chr>\\\\\n",
       "\\hline\n",
       "\t gbc & none                     & 0.8172 & 0.7719 & 0.9167 & 0.7111 & 0.6278 & 27.080 & 0.6441 &  0.26670 & 0.6166 & 0.09018 & d574e30\\\\\n",
       "\t gbc & robust scaling           & 0.8387 & 0.8113 & 0.8958 & 0.7778 & 0.6736 & 30.100 & 0.6799 &  0.43330 & 0.6753 & 0.07386 & 26fd6ad\\\\\n",
       "\t gbc & standard scaling         & 0.8387 & 0.8000 & 0.9167 & 0.7556 & 0.6722 & 34.000 & 0.6834 &  0.26670 & 0.6200 & 0.11860 & 7076219\\\\\n",
       "\t gbc & pca                      & 0.8065 & 0.7778 & 0.8750 & 0.7333 & 0.6083 & 19.250 & 0.6161 &  0.43330 & 0.6119 & 0.06385 & 1e0e6d0\\\\\n",
       "\t gbc & isomap                   & 0.7634 & 0.7708 & 0.7708 & 0.7556 & 0.5264 & 10.400 & 0.5264 &  0.10000 & 0.5917 & 0.10020 & 1a1bb28\\\\\n",
       "\t gbc & locally linear embedding & 0.7527 & 0.7358 & 0.8125 & 0.6889 & 0.5014 &  9.595 & 0.5061 & -0.10000 & 0.5755 & 0.09754 & 6596248\\\\\n",
       "\t gbc & hessian lle              & 0.7312 & 0.7170 & 0.7917 & 0.6667 & 0.4583 &  7.600 & 0.4626 &  0.06667 & 0.5755 & 0.10640 & e46e66b\\\\\n",
       "\t gbc & modified lle             & 0.8065 & 0.7885 & 0.8542 & 0.7556 & 0.6097 & 18.100 & 0.6137 &  0.06667 & 0.5528 & 0.13060 & f905831\\\\\n",
       "\t gbc & factor analysis          & 0.7634 & 0.7500 & 0.8125 & 0.7111 & 0.5236 & 10.670 & 0.5270 &  0.23810 & 0.6450 & 0.12070 & 24f9b64\\\\\n",
       "\t gbc & feature agglomeration    & 0.8387 & 0.8000 & 0.9167 & 0.7556 & 0.6722 & 34.000 & 0.6834 &  0.43330 & 0.6417 & 0.11820 & 1848532\\\\\n",
       "\t gbc & nca                      & 0.7742 & 0.7647 & 0.8125 & 0.7333 & 0.5458 & 11.920 & 0.5481 &  0.43330 & 0.5690 & 0.10120 & bfdcbc5\\\\\n",
       "\t rfc & robust scaling           & 0.7957 & 0.7736 & 0.8542 & 0.7333 & 0.5875 & 16.110 & 0.5930 &  0.38100 & 0.6460 & 0.13050 & 68eb4d7\\\\\n",
       "\t etc & robust scaling           & 0.8065 & 0.7778 & 0.8750 & 0.7333 & 0.6083 & 19.250 & 0.6161 &  0.50000 & 0.5933 & 0.09078 & 39ce70a\\\\\n",
       "\t dtc & robust scaling           & 0.7634 & 0.7321 & 0.8542 & 0.6667 & 0.5208 & 11.710 & 0.5318 &  0.33330 & 0.5596 & 0.11810 & 754feba\\\\\n",
       "\t knn & robust scaling           & 0.8280 & 0.7963 & 0.8958 & 0.7556 & 0.6514 & 26.580 & 0.6597 &  0.33330 & 0.6238 & 0.10210 & cae025e\\\\\n",
       "\t rnc & robust scaling           & 0.8495 & 0.8269 & 0.8958 & 0.8000 & 0.6958 & 34.400 & 0.7004 &  0.50000 & 0.6190 & 0.07159 & 195fd9e\\\\\n",
       "\t lrc & robust scaling           & 0.7849 & 0.7692 & 0.8333 & 0.7333 & 0.5667 & 13.750 & 0.5704 &  0.33330 & 0.6531 & 0.07413 & 070d262\\\\\n",
       "\t lda & robust scaling           & 0.7957 & 0.7736 & 0.8542 & 0.7333 & 0.5875 & 16.110 & 0.5930 &  0.33330 & 0.5755 & 0.14570 & 34389f6\\\\\n",
       "\t qda & robust scaling           & 0.8280 & 0.8077 & 0.8750 & 0.7778 & 0.6528 & 24.500 & 0.6571 &  0.33330 & 0.6337 & 0.12210 & 7e747a7\\\\\n",
       "\\end{tabular}\n"
      ],
      "text/markdown": [
       "\n",
       "A spec_tbl_df: 19 × 13\n",
       "\n",
       "| model &lt;chr&gt; | preprocessing &lt;chr&gt; | accuracy &lt;dbl&gt; | precision &lt;dbl&gt; | sensitivity &lt;dbl&gt; | specificity &lt;dbl&gt; | informedness &lt;dbl&gt; | dor &lt;dbl&gt; | mcc &lt;dbl&gt; | outlier informedness &lt;dbl&gt; | cv informedness &lt;dbl&gt; | mad informedness &lt;dbl&gt; | commit hash &lt;chr&gt; |\n",
       "|---|---|---|---|---|---|---|---|---|---|---|---|---|\n",
       "| gbc | none                     | 0.8172 | 0.7719 | 0.9167 | 0.7111 | 0.6278 | 27.080 | 0.6441 |  0.26670 | 0.6166 | 0.09018 | d574e30 |\n",
       "| gbc | robust scaling           | 0.8387 | 0.8113 | 0.8958 | 0.7778 | 0.6736 | 30.100 | 0.6799 |  0.43330 | 0.6753 | 0.07386 | 26fd6ad |\n",
       "| gbc | standard scaling         | 0.8387 | 0.8000 | 0.9167 | 0.7556 | 0.6722 | 34.000 | 0.6834 |  0.26670 | 0.6200 | 0.11860 | 7076219 |\n",
       "| gbc | pca                      | 0.8065 | 0.7778 | 0.8750 | 0.7333 | 0.6083 | 19.250 | 0.6161 |  0.43330 | 0.6119 | 0.06385 | 1e0e6d0 |\n",
       "| gbc | isomap                   | 0.7634 | 0.7708 | 0.7708 | 0.7556 | 0.5264 | 10.400 | 0.5264 |  0.10000 | 0.5917 | 0.10020 | 1a1bb28 |\n",
       "| gbc | locally linear embedding | 0.7527 | 0.7358 | 0.8125 | 0.6889 | 0.5014 |  9.595 | 0.5061 | -0.10000 | 0.5755 | 0.09754 | 6596248 |\n",
       "| gbc | hessian lle              | 0.7312 | 0.7170 | 0.7917 | 0.6667 | 0.4583 |  7.600 | 0.4626 |  0.06667 | 0.5755 | 0.10640 | e46e66b |\n",
       "| gbc | modified lle             | 0.8065 | 0.7885 | 0.8542 | 0.7556 | 0.6097 | 18.100 | 0.6137 |  0.06667 | 0.5528 | 0.13060 | f905831 |\n",
       "| gbc | factor analysis          | 0.7634 | 0.7500 | 0.8125 | 0.7111 | 0.5236 | 10.670 | 0.5270 |  0.23810 | 0.6450 | 0.12070 | 24f9b64 |\n",
       "| gbc | feature agglomeration    | 0.8387 | 0.8000 | 0.9167 | 0.7556 | 0.6722 | 34.000 | 0.6834 |  0.43330 | 0.6417 | 0.11820 | 1848532 |\n",
       "| gbc | nca                      | 0.7742 | 0.7647 | 0.8125 | 0.7333 | 0.5458 | 11.920 | 0.5481 |  0.43330 | 0.5690 | 0.10120 | bfdcbc5 |\n",
       "| rfc | robust scaling           | 0.7957 | 0.7736 | 0.8542 | 0.7333 | 0.5875 | 16.110 | 0.5930 |  0.38100 | 0.6460 | 0.13050 | 68eb4d7 |\n",
       "| etc | robust scaling           | 0.8065 | 0.7778 | 0.8750 | 0.7333 | 0.6083 | 19.250 | 0.6161 |  0.50000 | 0.5933 | 0.09078 | 39ce70a |\n",
       "| dtc | robust scaling           | 0.7634 | 0.7321 | 0.8542 | 0.6667 | 0.5208 | 11.710 | 0.5318 |  0.33330 | 0.5596 | 0.11810 | 754feba |\n",
       "| knn | robust scaling           | 0.8280 | 0.7963 | 0.8958 | 0.7556 | 0.6514 | 26.580 | 0.6597 |  0.33330 | 0.6238 | 0.10210 | cae025e |\n",
       "| rnc | robust scaling           | 0.8495 | 0.8269 | 0.8958 | 0.8000 | 0.6958 | 34.400 | 0.7004 |  0.50000 | 0.6190 | 0.07159 | 195fd9e |\n",
       "| lrc | robust scaling           | 0.7849 | 0.7692 | 0.8333 | 0.7333 | 0.5667 | 13.750 | 0.5704 |  0.33330 | 0.6531 | 0.07413 | 070d262 |\n",
       "| lda | robust scaling           | 0.7957 | 0.7736 | 0.8542 | 0.7333 | 0.5875 | 16.110 | 0.5930 |  0.33330 | 0.5755 | 0.14570 | 34389f6 |\n",
       "| qda | robust scaling           | 0.8280 | 0.8077 | 0.8750 | 0.7778 | 0.6528 | 24.500 | 0.6571 |  0.33330 | 0.6337 | 0.12210 | 7e747a7 |\n",
       "\n"
      ],
      "text/plain": [
       "   model preprocessing            accuracy precision sensitivity specificity\n",
       "1  gbc   none                     0.8172   0.7719    0.9167      0.7111     \n",
       "2  gbc   robust scaling           0.8387   0.8113    0.8958      0.7778     \n",
       "3  gbc   standard scaling         0.8387   0.8000    0.9167      0.7556     \n",
       "4  gbc   pca                      0.8065   0.7778    0.8750      0.7333     \n",
       "5  gbc   isomap                   0.7634   0.7708    0.7708      0.7556     \n",
       "6  gbc   locally linear embedding 0.7527   0.7358    0.8125      0.6889     \n",
       "7  gbc   hessian lle              0.7312   0.7170    0.7917      0.6667     \n",
       "8  gbc   modified lle             0.8065   0.7885    0.8542      0.7556     \n",
       "9  gbc   factor analysis          0.7634   0.7500    0.8125      0.7111     \n",
       "10 gbc   feature agglomeration    0.8387   0.8000    0.9167      0.7556     \n",
       "11 gbc   nca                      0.7742   0.7647    0.8125      0.7333     \n",
       "12 rfc   robust scaling           0.7957   0.7736    0.8542      0.7333     \n",
       "13 etc   robust scaling           0.8065   0.7778    0.8750      0.7333     \n",
       "14 dtc   robust scaling           0.7634   0.7321    0.8542      0.6667     \n",
       "15 knn   robust scaling           0.8280   0.7963    0.8958      0.7556     \n",
       "16 rnc   robust scaling           0.8495   0.8269    0.8958      0.8000     \n",
       "17 lrc   robust scaling           0.7849   0.7692    0.8333      0.7333     \n",
       "18 lda   robust scaling           0.7957   0.7736    0.8542      0.7333     \n",
       "19 qda   robust scaling           0.8280   0.8077    0.8750      0.7778     \n",
       "   informedness dor    mcc    outlier informedness cv informedness\n",
       "1  0.6278       27.080 0.6441  0.26670             0.6166         \n",
       "2  0.6736       30.100 0.6799  0.43330             0.6753         \n",
       "3  0.6722       34.000 0.6834  0.26670             0.6200         \n",
       "4  0.6083       19.250 0.6161  0.43330             0.6119         \n",
       "5  0.5264       10.400 0.5264  0.10000             0.5917         \n",
       "6  0.5014        9.595 0.5061 -0.10000             0.5755         \n",
       "7  0.4583        7.600 0.4626  0.06667             0.5755         \n",
       "8  0.6097       18.100 0.6137  0.06667             0.5528         \n",
       "9  0.5236       10.670 0.5270  0.23810             0.6450         \n",
       "10 0.6722       34.000 0.6834  0.43330             0.6417         \n",
       "11 0.5458       11.920 0.5481  0.43330             0.5690         \n",
       "12 0.5875       16.110 0.5930  0.38100             0.6460         \n",
       "13 0.6083       19.250 0.6161  0.50000             0.5933         \n",
       "14 0.5208       11.710 0.5318  0.33330             0.5596         \n",
       "15 0.6514       26.580 0.6597  0.33330             0.6238         \n",
       "16 0.6958       34.400 0.7004  0.50000             0.6190         \n",
       "17 0.5667       13.750 0.5704  0.33330             0.6531         \n",
       "18 0.5875       16.110 0.5930  0.33330             0.5755         \n",
       "19 0.6528       24.500 0.6571  0.33330             0.6337         \n",
       "   mad informedness commit hash\n",
       "1  0.09018          d574e30    \n",
       "2  0.07386          26fd6ad    \n",
       "3  0.11860          7076219    \n",
       "4  0.06385          1e0e6d0    \n",
       "5  0.10020          1a1bb28    \n",
       "6  0.09754          6596248    \n",
       "7  0.10640          e46e66b    \n",
       "8  0.13060          f905831    \n",
       "9  0.12070          24f9b64    \n",
       "10 0.11820          1848532    \n",
       "11 0.10120          bfdcbc5    \n",
       "12 0.13050          68eb4d7    \n",
       "13 0.09078          39ce70a    \n",
       "14 0.11810          754feba    \n",
       "15 0.10210          cae025e    \n",
       "16 0.07159          195fd9e    \n",
       "17 0.07413          070d262    \n",
       "18 0.14570          34389f6    \n",
       "19 0.12210          7e747a7    "
      ]
     },
     "metadata": {},
     "output_type": "display_data"
    }
   ],
   "source": [
    "# Model Selection\n",
    "# ===============\n",
    "# This notebook compares the scores of different model algorithms, \n",
    "# preprocessing methods, and classification methods.\n",
    "#\n",
    "# The two best performing models are gradient boosting and radius neighbors.\n",
    "# Radius neighbors performs better on standard informedness, diagnostic odds\n",
    "# ratio, and outlier informedness. However, gradient boosting performs better \n",
    "# on cross-validation. This indicates that while radius neighbors performs\n",
    "# better on the limited amount of data reserved for validation, however,\n",
    "# gradient boosting appears to benefit more from increased data, which will\n",
    "# be advantageous when we combine the training and validation datasets.\n",
    "# Therefore, we choose gradient boosting with robust scaling as our model.\n",
    "#\n",
    "# Copyright 2020 Jerrad M. Genson\n",
    "#\n",
    "# This Source Code Form is subject to the terms of the Mozilla Public\n",
    "# License, v. 2.0. If a copy of the MPL was not distributed with this\n",
    "# file, You can obtain one at https://mozilla.org/MPL/2.0/.\n",
    "\n",
    "library(tidyverse)\n",
    "\n",
    "GIT_ROOT <- system2('git', args=c('rev-parse', '--show-toplevel'), stdout=TRUE)\n",
    "DATA <- file.path(GIT_ROOT, 'data')\n",
    "MODEL_DATA <- file.path(DATA, 'model_selection.csv')\n",
    "\n",
    "scores <- read_csv(MODEL_DATA)\n",
    "scores"
   ]
  },
  {
   "cell_type": "code",
   "execution_count": 2,
   "metadata": {},
   "outputs": [
    {
     "data": {
      "text/html": [
       "<table>\n",
       "<caption>A tibble: 1 × 13</caption>\n",
       "<thead>\n",
       "\t<tr><th scope=col>model</th><th scope=col>preprocessing</th><th scope=col>accuracy</th><th scope=col>precision</th><th scope=col>sensitivity</th><th scope=col>specificity</th><th scope=col>informedness</th><th scope=col>dor</th><th scope=col>mcc</th><th scope=col>outlier informedness</th><th scope=col>cv informedness</th><th scope=col>mad informedness</th><th scope=col>commit hash</th></tr>\n",
       "\t<tr><th scope=col>&lt;chr&gt;</th><th scope=col>&lt;chr&gt;</th><th scope=col>&lt;dbl&gt;</th><th scope=col>&lt;dbl&gt;</th><th scope=col>&lt;dbl&gt;</th><th scope=col>&lt;dbl&gt;</th><th scope=col>&lt;dbl&gt;</th><th scope=col>&lt;dbl&gt;</th><th scope=col>&lt;dbl&gt;</th><th scope=col>&lt;dbl&gt;</th><th scope=col>&lt;dbl&gt;</th><th scope=col>&lt;dbl&gt;</th><th scope=col>&lt;chr&gt;</th></tr>\n",
       "</thead>\n",
       "<tbody>\n",
       "\t<tr><td>rnc</td><td>robust scaling</td><td>0.8495</td><td>0.8269</td><td>0.8958</td><td>0.8</td><td>0.6958</td><td>34.4</td><td>0.7004</td><td>0.5</td><td>0.619</td><td>0.07159</td><td>195fd9e</td></tr>\n",
       "</tbody>\n",
       "</table>\n"
      ],
      "text/latex": [
       "A tibble: 1 × 13\n",
       "\\begin{tabular}{lllllllllllll}\n",
       " model & preprocessing & accuracy & precision & sensitivity & specificity & informedness & dor & mcc & outlier informedness & cv informedness & mad informedness & commit hash\\\\\n",
       " <chr> & <chr> & <dbl> & <dbl> & <dbl> & <dbl> & <dbl> & <dbl> & <dbl> & <dbl> & <dbl> & <dbl> & <chr>\\\\\n",
       "\\hline\n",
       "\t rnc & robust scaling & 0.8495 & 0.8269 & 0.8958 & 0.8 & 0.6958 & 34.4 & 0.7004 & 0.5 & 0.619 & 0.07159 & 195fd9e\\\\\n",
       "\\end{tabular}\n"
      ],
      "text/markdown": [
       "\n",
       "A tibble: 1 × 13\n",
       "\n",
       "| model &lt;chr&gt; | preprocessing &lt;chr&gt; | accuracy &lt;dbl&gt; | precision &lt;dbl&gt; | sensitivity &lt;dbl&gt; | specificity &lt;dbl&gt; | informedness &lt;dbl&gt; | dor &lt;dbl&gt; | mcc &lt;dbl&gt; | outlier informedness &lt;dbl&gt; | cv informedness &lt;dbl&gt; | mad informedness &lt;dbl&gt; | commit hash &lt;chr&gt; |\n",
       "|---|---|---|---|---|---|---|---|---|---|---|---|---|\n",
       "| rnc | robust scaling | 0.8495 | 0.8269 | 0.8958 | 0.8 | 0.6958 | 34.4 | 0.7004 | 0.5 | 0.619 | 0.07159 | 195fd9e |\n",
       "\n"
      ],
      "text/plain": [
       "  model preprocessing  accuracy precision sensitivity specificity informedness\n",
       "1 rnc   robust scaling 0.8495   0.8269    0.8958      0.8         0.6958      \n",
       "  dor  mcc    outlier informedness cv informedness mad informedness commit hash\n",
       "1 34.4 0.7004 0.5                  0.619           0.07159          195fd9e    "
      ]
     },
     "metadata": {},
     "output_type": "display_data"
    }
   ],
   "source": [
    "best_informedness <- scores[scores$informedness == max(scores$informedness), ]\n",
    "best_informedness"
   ]
  },
  {
   "cell_type": "code",
   "execution_count": 3,
   "metadata": {},
   "outputs": [
    {
     "data": {
      "text/html": [
       "<table>\n",
       "<caption>A tibble: 1 × 13</caption>\n",
       "<thead>\n",
       "\t<tr><th scope=col>model</th><th scope=col>preprocessing</th><th scope=col>accuracy</th><th scope=col>precision</th><th scope=col>sensitivity</th><th scope=col>specificity</th><th scope=col>informedness</th><th scope=col>dor</th><th scope=col>mcc</th><th scope=col>outlier informedness</th><th scope=col>cv informedness</th><th scope=col>mad informedness</th><th scope=col>commit hash</th></tr>\n",
       "\t<tr><th scope=col>&lt;chr&gt;</th><th scope=col>&lt;chr&gt;</th><th scope=col>&lt;dbl&gt;</th><th scope=col>&lt;dbl&gt;</th><th scope=col>&lt;dbl&gt;</th><th scope=col>&lt;dbl&gt;</th><th scope=col>&lt;dbl&gt;</th><th scope=col>&lt;dbl&gt;</th><th scope=col>&lt;dbl&gt;</th><th scope=col>&lt;dbl&gt;</th><th scope=col>&lt;dbl&gt;</th><th scope=col>&lt;dbl&gt;</th><th scope=col>&lt;chr&gt;</th></tr>\n",
       "</thead>\n",
       "<tbody>\n",
       "\t<tr><td>rnc</td><td>robust scaling</td><td>0.8495</td><td>0.8269</td><td>0.8958</td><td>0.8</td><td>0.6958</td><td>34.4</td><td>0.7004</td><td>0.5</td><td>0.619</td><td>0.07159</td><td>195fd9e</td></tr>\n",
       "</tbody>\n",
       "</table>\n"
      ],
      "text/latex": [
       "A tibble: 1 × 13\n",
       "\\begin{tabular}{lllllllllllll}\n",
       " model & preprocessing & accuracy & precision & sensitivity & specificity & informedness & dor & mcc & outlier informedness & cv informedness & mad informedness & commit hash\\\\\n",
       " <chr> & <chr> & <dbl> & <dbl> & <dbl> & <dbl> & <dbl> & <dbl> & <dbl> & <dbl> & <dbl> & <dbl> & <chr>\\\\\n",
       "\\hline\n",
       "\t rnc & robust scaling & 0.8495 & 0.8269 & 0.8958 & 0.8 & 0.6958 & 34.4 & 0.7004 & 0.5 & 0.619 & 0.07159 & 195fd9e\\\\\n",
       "\\end{tabular}\n"
      ],
      "text/markdown": [
       "\n",
       "A tibble: 1 × 13\n",
       "\n",
       "| model &lt;chr&gt; | preprocessing &lt;chr&gt; | accuracy &lt;dbl&gt; | precision &lt;dbl&gt; | sensitivity &lt;dbl&gt; | specificity &lt;dbl&gt; | informedness &lt;dbl&gt; | dor &lt;dbl&gt; | mcc &lt;dbl&gt; | outlier informedness &lt;dbl&gt; | cv informedness &lt;dbl&gt; | mad informedness &lt;dbl&gt; | commit hash &lt;chr&gt; |\n",
       "|---|---|---|---|---|---|---|---|---|---|---|---|---|\n",
       "| rnc | robust scaling | 0.8495 | 0.8269 | 0.8958 | 0.8 | 0.6958 | 34.4 | 0.7004 | 0.5 | 0.619 | 0.07159 | 195fd9e |\n",
       "\n"
      ],
      "text/plain": [
       "  model preprocessing  accuracy precision sensitivity specificity informedness\n",
       "1 rnc   robust scaling 0.8495   0.8269    0.8958      0.8         0.6958      \n",
       "  dor  mcc    outlier informedness cv informedness mad informedness commit hash\n",
       "1 34.4 0.7004 0.5                  0.619           0.07159          195fd9e    "
      ]
     },
     "metadata": {},
     "output_type": "display_data"
    }
   ],
   "source": [
    "best_dor <- scores[scores$dor == max(scores$dor), ]\n",
    "best_dor"
   ]
  },
  {
   "cell_type": "code",
   "execution_count": 4,
   "metadata": {},
   "outputs": [
    {
     "data": {
      "text/html": [
       "<table>\n",
       "<caption>A tibble: 3 × 13</caption>\n",
       "<thead>\n",
       "\t<tr><th scope=col>model</th><th scope=col>preprocessing</th><th scope=col>accuracy</th><th scope=col>precision</th><th scope=col>sensitivity</th><th scope=col>specificity</th><th scope=col>informedness</th><th scope=col>dor</th><th scope=col>mcc</th><th scope=col>outlier informedness</th><th scope=col>cv informedness</th><th scope=col>mad informedness</th><th scope=col>commit hash</th></tr>\n",
       "\t<tr><th scope=col>&lt;chr&gt;</th><th scope=col>&lt;chr&gt;</th><th scope=col>&lt;dbl&gt;</th><th scope=col>&lt;dbl&gt;</th><th scope=col>&lt;dbl&gt;</th><th scope=col>&lt;dbl&gt;</th><th scope=col>&lt;dbl&gt;</th><th scope=col>&lt;dbl&gt;</th><th scope=col>&lt;dbl&gt;</th><th scope=col>&lt;dbl&gt;</th><th scope=col>&lt;dbl&gt;</th><th scope=col>&lt;dbl&gt;</th><th scope=col>&lt;chr&gt;</th></tr>\n",
       "</thead>\n",
       "<tbody>\n",
       "\t<tr><td>gbc</td><td>none                 </td><td>0.8172</td><td>0.7719</td><td>0.9167</td><td>0.7111</td><td>0.6278</td><td>27.08</td><td>0.6441</td><td>0.2667</td><td>0.6166</td><td>0.09018</td><td>d574e30</td></tr>\n",
       "\t<tr><td>gbc</td><td>standard scaling     </td><td>0.8387</td><td>0.8000</td><td>0.9167</td><td>0.7556</td><td>0.6722</td><td>34.00</td><td>0.6834</td><td>0.2667</td><td>0.6200</td><td>0.11860</td><td>7076219</td></tr>\n",
       "\t<tr><td>gbc</td><td>feature agglomeration</td><td>0.8387</td><td>0.8000</td><td>0.9167</td><td>0.7556</td><td>0.6722</td><td>34.00</td><td>0.6834</td><td>0.4333</td><td>0.6417</td><td>0.11820</td><td>1848532</td></tr>\n",
       "</tbody>\n",
       "</table>\n"
      ],
      "text/latex": [
       "A tibble: 3 × 13\n",
       "\\begin{tabular}{lllllllllllll}\n",
       " model & preprocessing & accuracy & precision & sensitivity & specificity & informedness & dor & mcc & outlier informedness & cv informedness & mad informedness & commit hash\\\\\n",
       " <chr> & <chr> & <dbl> & <dbl> & <dbl> & <dbl> & <dbl> & <dbl> & <dbl> & <dbl> & <dbl> & <dbl> & <chr>\\\\\n",
       "\\hline\n",
       "\t gbc & none                  & 0.8172 & 0.7719 & 0.9167 & 0.7111 & 0.6278 & 27.08 & 0.6441 & 0.2667 & 0.6166 & 0.09018 & d574e30\\\\\n",
       "\t gbc & standard scaling      & 0.8387 & 0.8000 & 0.9167 & 0.7556 & 0.6722 & 34.00 & 0.6834 & 0.2667 & 0.6200 & 0.11860 & 7076219\\\\\n",
       "\t gbc & feature agglomeration & 0.8387 & 0.8000 & 0.9167 & 0.7556 & 0.6722 & 34.00 & 0.6834 & 0.4333 & 0.6417 & 0.11820 & 1848532\\\\\n",
       "\\end{tabular}\n"
      ],
      "text/markdown": [
       "\n",
       "A tibble: 3 × 13\n",
       "\n",
       "| model &lt;chr&gt; | preprocessing &lt;chr&gt; | accuracy &lt;dbl&gt; | precision &lt;dbl&gt; | sensitivity &lt;dbl&gt; | specificity &lt;dbl&gt; | informedness &lt;dbl&gt; | dor &lt;dbl&gt; | mcc &lt;dbl&gt; | outlier informedness &lt;dbl&gt; | cv informedness &lt;dbl&gt; | mad informedness &lt;dbl&gt; | commit hash &lt;chr&gt; |\n",
       "|---|---|---|---|---|---|---|---|---|---|---|---|---|\n",
       "| gbc | none                  | 0.8172 | 0.7719 | 0.9167 | 0.7111 | 0.6278 | 27.08 | 0.6441 | 0.2667 | 0.6166 | 0.09018 | d574e30 |\n",
       "| gbc | standard scaling      | 0.8387 | 0.8000 | 0.9167 | 0.7556 | 0.6722 | 34.00 | 0.6834 | 0.2667 | 0.6200 | 0.11860 | 7076219 |\n",
       "| gbc | feature agglomeration | 0.8387 | 0.8000 | 0.9167 | 0.7556 | 0.6722 | 34.00 | 0.6834 | 0.4333 | 0.6417 | 0.11820 | 1848532 |\n",
       "\n"
      ],
      "text/plain": [
       "  model preprocessing         accuracy precision sensitivity specificity\n",
       "1 gbc   none                  0.8172   0.7719    0.9167      0.7111     \n",
       "2 gbc   standard scaling      0.8387   0.8000    0.9167      0.7556     \n",
       "3 gbc   feature agglomeration 0.8387   0.8000    0.9167      0.7556     \n",
       "  informedness dor   mcc    outlier informedness cv informedness\n",
       "1 0.6278       27.08 0.6441 0.2667               0.6166         \n",
       "2 0.6722       34.00 0.6834 0.2667               0.6200         \n",
       "3 0.6722       34.00 0.6834 0.4333               0.6417         \n",
       "  mad informedness commit hash\n",
       "1 0.09018          d574e30    \n",
       "2 0.11860          7076219    \n",
       "3 0.11820          1848532    "
      ]
     },
     "metadata": {},
     "output_type": "display_data"
    }
   ],
   "source": [
    "best_sensitivity <- scores[scores$sensitivity == max(scores$sensitivity), ]\n",
    "best_sensitivity"
   ]
  },
  {
   "cell_type": "code",
   "execution_count": 5,
   "metadata": {},
   "outputs": [
    {
     "data": {
      "text/html": [
       "<table>\n",
       "<caption>A tibble: 1 × 13</caption>\n",
       "<thead>\n",
       "\t<tr><th scope=col>model</th><th scope=col>preprocessing</th><th scope=col>accuracy</th><th scope=col>precision</th><th scope=col>sensitivity</th><th scope=col>specificity</th><th scope=col>informedness</th><th scope=col>dor</th><th scope=col>mcc</th><th scope=col>outlier informedness</th><th scope=col>cv informedness</th><th scope=col>mad informedness</th><th scope=col>commit hash</th></tr>\n",
       "\t<tr><th scope=col>&lt;chr&gt;</th><th scope=col>&lt;chr&gt;</th><th scope=col>&lt;dbl&gt;</th><th scope=col>&lt;dbl&gt;</th><th scope=col>&lt;dbl&gt;</th><th scope=col>&lt;dbl&gt;</th><th scope=col>&lt;dbl&gt;</th><th scope=col>&lt;dbl&gt;</th><th scope=col>&lt;dbl&gt;</th><th scope=col>&lt;dbl&gt;</th><th scope=col>&lt;dbl&gt;</th><th scope=col>&lt;dbl&gt;</th><th scope=col>&lt;chr&gt;</th></tr>\n",
       "</thead>\n",
       "<tbody>\n",
       "\t<tr><td>gbc</td><td>robust scaling</td><td>0.8387</td><td>0.8113</td><td>0.8958</td><td>0.7778</td><td>0.6736</td><td>30.1</td><td>0.6799</td><td>0.4333</td><td>0.6753</td><td>0.07386</td><td>26fd6ad</td></tr>\n",
       "</tbody>\n",
       "</table>\n"
      ],
      "text/latex": [
       "A tibble: 1 × 13\n",
       "\\begin{tabular}{lllllllllllll}\n",
       " model & preprocessing & accuracy & precision & sensitivity & specificity & informedness & dor & mcc & outlier informedness & cv informedness & mad informedness & commit hash\\\\\n",
       " <chr> & <chr> & <dbl> & <dbl> & <dbl> & <dbl> & <dbl> & <dbl> & <dbl> & <dbl> & <dbl> & <dbl> & <chr>\\\\\n",
       "\\hline\n",
       "\t gbc & robust scaling & 0.8387 & 0.8113 & 0.8958 & 0.7778 & 0.6736 & 30.1 & 0.6799 & 0.4333 & 0.6753 & 0.07386 & 26fd6ad\\\\\n",
       "\\end{tabular}\n"
      ],
      "text/markdown": [
       "\n",
       "A tibble: 1 × 13\n",
       "\n",
       "| model &lt;chr&gt; | preprocessing &lt;chr&gt; | accuracy &lt;dbl&gt; | precision &lt;dbl&gt; | sensitivity &lt;dbl&gt; | specificity &lt;dbl&gt; | informedness &lt;dbl&gt; | dor &lt;dbl&gt; | mcc &lt;dbl&gt; | outlier informedness &lt;dbl&gt; | cv informedness &lt;dbl&gt; | mad informedness &lt;dbl&gt; | commit hash &lt;chr&gt; |\n",
       "|---|---|---|---|---|---|---|---|---|---|---|---|---|\n",
       "| gbc | robust scaling | 0.8387 | 0.8113 | 0.8958 | 0.7778 | 0.6736 | 30.1 | 0.6799 | 0.4333 | 0.6753 | 0.07386 | 26fd6ad |\n",
       "\n"
      ],
      "text/plain": [
       "  model preprocessing  accuracy precision sensitivity specificity informedness\n",
       "1 gbc   robust scaling 0.8387   0.8113    0.8958      0.7778      0.6736      \n",
       "  dor  mcc    outlier informedness cv informedness mad informedness commit hash\n",
       "1 30.1 0.6799 0.4333               0.6753          0.07386          26fd6ad    "
      ]
     },
     "metadata": {},
     "output_type": "display_data"
    }
   ],
   "source": [
    "best_cv_informedness <- scores[scores$`cv informedness` == max(scores$`cv informedness`), ]\n",
    "best_cv_informedness"
   ]
  },
  {
   "cell_type": "code",
   "execution_count": 6,
   "metadata": {},
   "outputs": [
    {
     "data": {
      "text/html": [
       "<table>\n",
       "<caption>A tibble: 1 × 13</caption>\n",
       "<thead>\n",
       "\t<tr><th scope=col>model</th><th scope=col>preprocessing</th><th scope=col>accuracy</th><th scope=col>precision</th><th scope=col>sensitivity</th><th scope=col>specificity</th><th scope=col>informedness</th><th scope=col>dor</th><th scope=col>mcc</th><th scope=col>outlier informedness</th><th scope=col>cv informedness</th><th scope=col>mad informedness</th><th scope=col>commit hash</th></tr>\n",
       "\t<tr><th scope=col>&lt;chr&gt;</th><th scope=col>&lt;chr&gt;</th><th scope=col>&lt;dbl&gt;</th><th scope=col>&lt;dbl&gt;</th><th scope=col>&lt;dbl&gt;</th><th scope=col>&lt;dbl&gt;</th><th scope=col>&lt;dbl&gt;</th><th scope=col>&lt;dbl&gt;</th><th scope=col>&lt;dbl&gt;</th><th scope=col>&lt;dbl&gt;</th><th scope=col>&lt;dbl&gt;</th><th scope=col>&lt;dbl&gt;</th><th scope=col>&lt;chr&gt;</th></tr>\n",
       "</thead>\n",
       "<tbody>\n",
       "\t<tr><td>gbc</td><td>robust scaling</td><td>0.8387</td><td>0.8113</td><td>0.8958</td><td>0.7778</td><td>0.6736</td><td>30.1</td><td>0.6799</td><td>0.4333</td><td>0.6753</td><td>0.07386</td><td>26fd6ad</td></tr>\n",
       "</tbody>\n",
       "</table>\n"
      ],
      "text/latex": [
       "A tibble: 1 × 13\n",
       "\\begin{tabular}{lllllllllllll}\n",
       " model & preprocessing & accuracy & precision & sensitivity & specificity & informedness & dor & mcc & outlier informedness & cv informedness & mad informedness & commit hash\\\\\n",
       " <chr> & <chr> & <dbl> & <dbl> & <dbl> & <dbl> & <dbl> & <dbl> & <dbl> & <dbl> & <dbl> & <dbl> & <chr>\\\\\n",
       "\\hline\n",
       "\t gbc & robust scaling & 0.8387 & 0.8113 & 0.8958 & 0.7778 & 0.6736 & 30.1 & 0.6799 & 0.4333 & 0.6753 & 0.07386 & 26fd6ad\\\\\n",
       "\\end{tabular}\n"
      ],
      "text/markdown": [
       "\n",
       "A tibble: 1 × 13\n",
       "\n",
       "| model &lt;chr&gt; | preprocessing &lt;chr&gt; | accuracy &lt;dbl&gt; | precision &lt;dbl&gt; | sensitivity &lt;dbl&gt; | specificity &lt;dbl&gt; | informedness &lt;dbl&gt; | dor &lt;dbl&gt; | mcc &lt;dbl&gt; | outlier informedness &lt;dbl&gt; | cv informedness &lt;dbl&gt; | mad informedness &lt;dbl&gt; | commit hash &lt;chr&gt; |\n",
       "|---|---|---|---|---|---|---|---|---|---|---|---|---|\n",
       "| gbc | robust scaling | 0.8387 | 0.8113 | 0.8958 | 0.7778 | 0.6736 | 30.1 | 0.6799 | 0.4333 | 0.6753 | 0.07386 | 26fd6ad |\n",
       "\n"
      ],
      "text/plain": [
       "  model preprocessing  accuracy precision sensitivity specificity informedness\n",
       "1 gbc   robust scaling 0.8387   0.8113    0.8958      0.7778      0.6736      \n",
       "  dor  mcc    outlier informedness cv informedness mad informedness commit hash\n",
       "1 30.1 0.6799 0.4333               0.6753          0.07386          26fd6ad    "
      ]
     },
     "metadata": {},
     "output_type": "display_data"
    }
   ],
   "source": [
    "second_best_informedness <- scores[scores$informedness == unique(sort(scores$informedness, TRUE))[2], ]\n",
    "second_best_informedness"
   ]
  },
  {
   "cell_type": "code",
   "execution_count": 7,
   "metadata": {},
   "outputs": [
    {
     "data": {
      "text/html": [
       "<table>\n",
       "<caption>A tibble: 2 × 13</caption>\n",
       "<thead>\n",
       "\t<tr><th scope=col>model</th><th scope=col>preprocessing</th><th scope=col>accuracy</th><th scope=col>precision</th><th scope=col>sensitivity</th><th scope=col>specificity</th><th scope=col>informedness</th><th scope=col>dor</th><th scope=col>mcc</th><th scope=col>outlier informedness</th><th scope=col>cv informedness</th><th scope=col>mad informedness</th><th scope=col>commit hash</th></tr>\n",
       "\t<tr><th scope=col>&lt;chr&gt;</th><th scope=col>&lt;chr&gt;</th><th scope=col>&lt;dbl&gt;</th><th scope=col>&lt;dbl&gt;</th><th scope=col>&lt;dbl&gt;</th><th scope=col>&lt;dbl&gt;</th><th scope=col>&lt;dbl&gt;</th><th scope=col>&lt;dbl&gt;</th><th scope=col>&lt;dbl&gt;</th><th scope=col>&lt;dbl&gt;</th><th scope=col>&lt;dbl&gt;</th><th scope=col>&lt;dbl&gt;</th><th scope=col>&lt;chr&gt;</th></tr>\n",
       "</thead>\n",
       "<tbody>\n",
       "\t<tr><td>gbc</td><td>standard scaling     </td><td>0.8387</td><td>0.8</td><td>0.9167</td><td>0.7556</td><td>0.6722</td><td>34</td><td>0.6834</td><td>0.2667</td><td>0.6200</td><td>0.1186</td><td>7076219</td></tr>\n",
       "\t<tr><td>gbc</td><td>feature agglomeration</td><td>0.8387</td><td>0.8</td><td>0.9167</td><td>0.7556</td><td>0.6722</td><td>34</td><td>0.6834</td><td>0.4333</td><td>0.6417</td><td>0.1182</td><td>1848532</td></tr>\n",
       "</tbody>\n",
       "</table>\n"
      ],
      "text/latex": [
       "A tibble: 2 × 13\n",
       "\\begin{tabular}{lllllllllllll}\n",
       " model & preprocessing & accuracy & precision & sensitivity & specificity & informedness & dor & mcc & outlier informedness & cv informedness & mad informedness & commit hash\\\\\n",
       " <chr> & <chr> & <dbl> & <dbl> & <dbl> & <dbl> & <dbl> & <dbl> & <dbl> & <dbl> & <dbl> & <dbl> & <chr>\\\\\n",
       "\\hline\n",
       "\t gbc & standard scaling      & 0.8387 & 0.8 & 0.9167 & 0.7556 & 0.6722 & 34 & 0.6834 & 0.2667 & 0.6200 & 0.1186 & 7076219\\\\\n",
       "\t gbc & feature agglomeration & 0.8387 & 0.8 & 0.9167 & 0.7556 & 0.6722 & 34 & 0.6834 & 0.4333 & 0.6417 & 0.1182 & 1848532\\\\\n",
       "\\end{tabular}\n"
      ],
      "text/markdown": [
       "\n",
       "A tibble: 2 × 13\n",
       "\n",
       "| model &lt;chr&gt; | preprocessing &lt;chr&gt; | accuracy &lt;dbl&gt; | precision &lt;dbl&gt; | sensitivity &lt;dbl&gt; | specificity &lt;dbl&gt; | informedness &lt;dbl&gt; | dor &lt;dbl&gt; | mcc &lt;dbl&gt; | outlier informedness &lt;dbl&gt; | cv informedness &lt;dbl&gt; | mad informedness &lt;dbl&gt; | commit hash &lt;chr&gt; |\n",
       "|---|---|---|---|---|---|---|---|---|---|---|---|---|\n",
       "| gbc | standard scaling      | 0.8387 | 0.8 | 0.9167 | 0.7556 | 0.6722 | 34 | 0.6834 | 0.2667 | 0.6200 | 0.1186 | 7076219 |\n",
       "| gbc | feature agglomeration | 0.8387 | 0.8 | 0.9167 | 0.7556 | 0.6722 | 34 | 0.6834 | 0.4333 | 0.6417 | 0.1182 | 1848532 |\n",
       "\n"
      ],
      "text/plain": [
       "  model preprocessing         accuracy precision sensitivity specificity\n",
       "1 gbc   standard scaling      0.8387   0.8       0.9167      0.7556     \n",
       "2 gbc   feature agglomeration 0.8387   0.8       0.9167      0.7556     \n",
       "  informedness dor mcc    outlier informedness cv informedness mad informedness\n",
       "1 0.6722       34  0.6834 0.2667               0.6200          0.1186          \n",
       "2 0.6722       34  0.6834 0.4333               0.6417          0.1182          \n",
       "  commit hash\n",
       "1 7076219    \n",
       "2 1848532    "
      ]
     },
     "metadata": {},
     "output_type": "display_data"
    }
   ],
   "source": [
    "third_best_informedness <- scores[scores$informedness == unique(sort(scores$informedness, TRUE))[3], ]\n",
    "third_best_informedness"
   ]
  },
  {
   "cell_type": "code",
   "execution_count": null,
   "metadata": {},
   "outputs": [],
   "source": []
  }
 ],
 "metadata": {
  "kernelspec": {
   "display_name": "R",
   "language": "R",
   "name": "ir"
  },
  "language_info": {
   "codemirror_mode": "r",
   "file_extension": ".r",
   "mimetype": "text/x-r-source",
   "name": "R",
   "pygments_lexer": "r",
   "version": "3.6.3"
  }
 },
 "nbformat": 4,
 "nbformat_minor": 4
}
