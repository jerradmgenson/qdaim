{
 "cells": [
  {
   "cell_type": "code",
   "execution_count": 1,
   "metadata": {},
   "outputs": [
    {
     "name": "stderr",
     "output_type": "stream",
     "text": [
      "── \u001b[1mAttaching packages\u001b[22m ─────────────────────────────────────── tidyverse 1.3.0 ──\n",
      "\n",
      "\u001b[32m✔\u001b[39m \u001b[34mggplot2\u001b[39m 3.3.2     \u001b[32m✔\u001b[39m \u001b[34mpurrr  \u001b[39m 0.3.4\n",
      "\u001b[32m✔\u001b[39m \u001b[34mtibble \u001b[39m 3.0.4     \u001b[32m✔\u001b[39m \u001b[34mdplyr  \u001b[39m 1.0.2\n",
      "\u001b[32m✔\u001b[39m \u001b[34mtidyr  \u001b[39m 1.1.2     \u001b[32m✔\u001b[39m \u001b[34mstringr\u001b[39m 1.4.0\n",
      "\u001b[32m✔\u001b[39m \u001b[34mreadr  \u001b[39m 1.4.0     \u001b[32m✔\u001b[39m \u001b[34mforcats\u001b[39m 0.5.0\n",
      "\n",
      "── \u001b[1mConflicts\u001b[22m ────────────────────────────────────────── tidyverse_conflicts() ──\n",
      "\u001b[31m✖\u001b[39m \u001b[34mdplyr\u001b[39m::\u001b[32mfilter()\u001b[39m masks \u001b[34mstats\u001b[39m::filter()\n",
      "\u001b[31m✖\u001b[39m \u001b[34mdplyr\u001b[39m::\u001b[32mlag()\u001b[39m    masks \u001b[34mstats\u001b[39m::lag()\n",
      "\n",
      "\n",
      "\u001b[36m──\u001b[39m \u001b[1m\u001b[1mColumn specification\u001b[1m\u001b[22m \u001b[36m────────────────────────────────────────────────────────\u001b[39m\n",
      "cols(\n",
      "  model = \u001b[31mcol_character()\u001b[39m,\n",
      "  preprocessing = \u001b[31mcol_character()\u001b[39m,\n",
      "  accuracy = \u001b[32mcol_double()\u001b[39m,\n",
      "  precision = \u001b[32mcol_double()\u001b[39m,\n",
      "  sensitivity = \u001b[32mcol_double()\u001b[39m,\n",
      "  specificity = \u001b[32mcol_double()\u001b[39m,\n",
      "  informedness = \u001b[32mcol_double()\u001b[39m,\n",
      "  dor = \u001b[32mcol_double()\u001b[39m,\n",
      "  mcc = \u001b[32mcol_double()\u001b[39m,\n",
      "  `outlier informedness` = \u001b[32mcol_double()\u001b[39m,\n",
      "  `cv informedness` = \u001b[32mcol_double()\u001b[39m,\n",
      "  `mad informedness` = \u001b[32mcol_double()\u001b[39m,\n",
      "  `commit hash` = \u001b[31mcol_character()\u001b[39m\n",
      ")\n",
      "\n",
      "\n"
     ]
    },
    {
     "data": {
      "text/html": [
       "<table>\n",
       "<caption>A spec_tbl_df: 1 × 13</caption>\n",
       "<thead>\n",
       "\t<tr><th scope=col>model</th><th scope=col>preprocessing</th><th scope=col>accuracy</th><th scope=col>precision</th><th scope=col>sensitivity</th><th scope=col>specificity</th><th scope=col>informedness</th><th scope=col>dor</th><th scope=col>mcc</th><th scope=col>outlier informedness</th><th scope=col>cv informedness</th><th scope=col>mad informedness</th><th scope=col>commit hash</th></tr>\n",
       "\t<tr><th scope=col>&lt;chr&gt;</th><th scope=col>&lt;chr&gt;</th><th scope=col>&lt;dbl&gt;</th><th scope=col>&lt;dbl&gt;</th><th scope=col>&lt;dbl&gt;</th><th scope=col>&lt;dbl&gt;</th><th scope=col>&lt;dbl&gt;</th><th scope=col>&lt;dbl&gt;</th><th scope=col>&lt;dbl&gt;</th><th scope=col>&lt;dbl&gt;</th><th scope=col>&lt;dbl&gt;</th><th scope=col>&lt;dbl&gt;</th><th scope=col>&lt;chr&gt;</th></tr>\n",
       "</thead>\n",
       "<tbody>\n",
       "\t<tr><td>rfc</td><td>isomap</td><td>0.7527</td><td>0.7308</td><td>0.8085</td><td>0.6957</td><td>0.5042</td><td>9.651</td><td>0.5077</td><td>0.6667</td><td>0.3528</td><td>0.08761</td><td>addf0d1</td></tr>\n",
       "</tbody>\n",
       "</table>\n"
      ],
      "text/latex": [
       "A spec\\_tbl\\_df: 1 × 13\n",
       "\\begin{tabular}{lllllllllllll}\n",
       " model & preprocessing & accuracy & precision & sensitivity & specificity & informedness & dor & mcc & outlier informedness & cv informedness & mad informedness & commit hash\\\\\n",
       " <chr> & <chr> & <dbl> & <dbl> & <dbl> & <dbl> & <dbl> & <dbl> & <dbl> & <dbl> & <dbl> & <dbl> & <chr>\\\\\n",
       "\\hline\n",
       "\t rfc & isomap & 0.7527 & 0.7308 & 0.8085 & 0.6957 & 0.5042 & 9.651 & 0.5077 & 0.6667 & 0.3528 & 0.08761 & addf0d1\\\\\n",
       "\\end{tabular}\n"
      ],
      "text/markdown": [
       "\n",
       "A spec_tbl_df: 1 × 13\n",
       "\n",
       "| model &lt;chr&gt; | preprocessing &lt;chr&gt; | accuracy &lt;dbl&gt; | precision &lt;dbl&gt; | sensitivity &lt;dbl&gt; | specificity &lt;dbl&gt; | informedness &lt;dbl&gt; | dor &lt;dbl&gt; | mcc &lt;dbl&gt; | outlier informedness &lt;dbl&gt; | cv informedness &lt;dbl&gt; | mad informedness &lt;dbl&gt; | commit hash &lt;chr&gt; |\n",
       "|---|---|---|---|---|---|---|---|---|---|---|---|---|\n",
       "| rfc | isomap | 0.7527 | 0.7308 | 0.8085 | 0.6957 | 0.5042 | 9.651 | 0.5077 | 0.6667 | 0.3528 | 0.08761 | addf0d1 |\n",
       "\n"
      ],
      "text/plain": [
       "  model preprocessing accuracy precision sensitivity specificity informedness\n",
       "1 rfc   isomap        0.7527   0.7308    0.8085      0.6957      0.5042      \n",
       "  dor   mcc    outlier informedness cv informedness mad informedness\n",
       "1 9.651 0.5077 0.6667               0.3528          0.08761         \n",
       "  commit hash\n",
       "1 addf0d1    "
      ]
     },
     "metadata": {},
     "output_type": "display_data"
    }
   ],
   "source": [
    "# Model Selection\n",
    "# ===============\n",
    "# This notebook compares the scores of different model algorithms, \n",
    "# preprocessing methods, and classification methods.\n",
    "#\n",
    "# We can see from the experiment data that naive bayes classifier with \n",
    "# informedness=0.7574 and DOR=59.63 and random forest with informedness=0.723\n",
    "# and dor=38.77 were the best-performing models. Although naive bayes scored\n",
    "# higher on informedness and dor, random forest did a bit better on sensitivity\n",
    "# (0.8545 vs. 0.8364). Although the difference isn't very great, we prefer a\n",
    "# model with higher sensitivity as the risk of mortality from myocardial infarction\n",
    "# is much higher than the risk of mortality from angiography[1][2]. In addition, \n",
    "# random forest is a more reliable method for estimating the probablity associated \n",
    "# with a classification than naive bayes. Therefore, we choose random forest as \n",
    "# our model.\n",
    "#\n",
    "# References:\n",
    "# [1] https://www.ahajournals.org/doi/10.1161/CIR.0b013e3182742cf6\n",
    "# [2] https://www.nhs.uk/conditions/angiography/risks/\n",
    "#\n",
    "# Copyright 2020 Jerrad M. Genson\n",
    "#\n",
    "# This Source Code Form is subject to the terms of the Mozilla Public\n",
    "# License, v. 2.0. If a copy of the MPL was not distributed with this\n",
    "# file, You can obtain one at https://mozilla.org/MPL/2.0/.\n",
    "\n",
    "library(tidyverse)\n",
    "\n",
    "GIT_ROOT <- system2('git', args=c('rev-parse', '--show-toplevel'), stdout=TRUE)\n",
    "DATA <- file.path(GIT_ROOT, 'data')\n",
    "MODEL_DATA <- file.path(DATA, 'model_selection.csv')\n",
    "\n",
    "scores <- read_csv(MODEL_DATA)\n",
    "scores"
   ]
  },
  {
   "cell_type": "code",
   "execution_count": 2,
   "metadata": {},
   "outputs": [
    {
     "data": {
      "text/html": [
       "<table>\n",
       "<caption>A tibble: 1 × 13</caption>\n",
       "<thead>\n",
       "\t<tr><th scope=col>model</th><th scope=col>preprocessing</th><th scope=col>accuracy</th><th scope=col>precision</th><th scope=col>sensitivity</th><th scope=col>specificity</th><th scope=col>informedness</th><th scope=col>dor</th><th scope=col>mcc</th><th scope=col>outlier informedness</th><th scope=col>cv informedness</th><th scope=col>mad informedness</th><th scope=col>commit hash</th></tr>\n",
       "\t<tr><th scope=col>&lt;chr&gt;</th><th scope=col>&lt;chr&gt;</th><th scope=col>&lt;dbl&gt;</th><th scope=col>&lt;dbl&gt;</th><th scope=col>&lt;dbl&gt;</th><th scope=col>&lt;dbl&gt;</th><th scope=col>&lt;dbl&gt;</th><th scope=col>&lt;dbl&gt;</th><th scope=col>&lt;dbl&gt;</th><th scope=col>&lt;dbl&gt;</th><th scope=col>&lt;dbl&gt;</th><th scope=col>&lt;dbl&gt;</th><th scope=col>&lt;chr&gt;</th></tr>\n",
       "</thead>\n",
       "<tbody>\n",
       "\t<tr><td>rfc</td><td>isomap</td><td>0.7527</td><td>0.7308</td><td>0.8085</td><td>0.6957</td><td>0.5042</td><td>9.651</td><td>0.5077</td><td>0.6667</td><td>0.3528</td><td>0.08761</td><td>addf0d1</td></tr>\n",
       "</tbody>\n",
       "</table>\n"
      ],
      "text/latex": [
       "A tibble: 1 × 13\n",
       "\\begin{tabular}{lllllllllllll}\n",
       " model & preprocessing & accuracy & precision & sensitivity & specificity & informedness & dor & mcc & outlier informedness & cv informedness & mad informedness & commit hash\\\\\n",
       " <chr> & <chr> & <dbl> & <dbl> & <dbl> & <dbl> & <dbl> & <dbl> & <dbl> & <dbl> & <dbl> & <dbl> & <chr>\\\\\n",
       "\\hline\n",
       "\t rfc & isomap & 0.7527 & 0.7308 & 0.8085 & 0.6957 & 0.5042 & 9.651 & 0.5077 & 0.6667 & 0.3528 & 0.08761 & addf0d1\\\\\n",
       "\\end{tabular}\n"
      ],
      "text/markdown": [
       "\n",
       "A tibble: 1 × 13\n",
       "\n",
       "| model &lt;chr&gt; | preprocessing &lt;chr&gt; | accuracy &lt;dbl&gt; | precision &lt;dbl&gt; | sensitivity &lt;dbl&gt; | specificity &lt;dbl&gt; | informedness &lt;dbl&gt; | dor &lt;dbl&gt; | mcc &lt;dbl&gt; | outlier informedness &lt;dbl&gt; | cv informedness &lt;dbl&gt; | mad informedness &lt;dbl&gt; | commit hash &lt;chr&gt; |\n",
       "|---|---|---|---|---|---|---|---|---|---|---|---|---|\n",
       "| rfc | isomap | 0.7527 | 0.7308 | 0.8085 | 0.6957 | 0.5042 | 9.651 | 0.5077 | 0.6667 | 0.3528 | 0.08761 | addf0d1 |\n",
       "\n"
      ],
      "text/plain": [
       "  model preprocessing accuracy precision sensitivity specificity informedness\n",
       "1 rfc   isomap        0.7527   0.7308    0.8085      0.6957      0.5042      \n",
       "  dor   mcc    outlier informedness cv informedness mad informedness\n",
       "1 9.651 0.5077 0.6667               0.3528          0.08761         \n",
       "  commit hash\n",
       "1 addf0d1    "
      ]
     },
     "metadata": {},
     "output_type": "display_data"
    }
   ],
   "source": [
    "best_informedness <- scores[scores$informedness == max(scores$informedness), ]\n",
    "best_informedness"
   ]
  },
  {
   "cell_type": "code",
   "execution_count": 3,
   "metadata": {},
   "outputs": [
    {
     "data": {
      "text/html": [
       "<table>\n",
       "<caption>A tibble: 1 × 13</caption>\n",
       "<thead>\n",
       "\t<tr><th scope=col>model</th><th scope=col>preprocessing</th><th scope=col>accuracy</th><th scope=col>precision</th><th scope=col>sensitivity</th><th scope=col>specificity</th><th scope=col>informedness</th><th scope=col>dor</th><th scope=col>mcc</th><th scope=col>outlier informedness</th><th scope=col>cv informedness</th><th scope=col>mad informedness</th><th scope=col>commit hash</th></tr>\n",
       "\t<tr><th scope=col>&lt;chr&gt;</th><th scope=col>&lt;chr&gt;</th><th scope=col>&lt;dbl&gt;</th><th scope=col>&lt;dbl&gt;</th><th scope=col>&lt;dbl&gt;</th><th scope=col>&lt;dbl&gt;</th><th scope=col>&lt;dbl&gt;</th><th scope=col>&lt;dbl&gt;</th><th scope=col>&lt;dbl&gt;</th><th scope=col>&lt;dbl&gt;</th><th scope=col>&lt;dbl&gt;</th><th scope=col>&lt;dbl&gt;</th><th scope=col>&lt;chr&gt;</th></tr>\n",
       "</thead>\n",
       "<tbody>\n",
       "\t<tr><td>rfc</td><td>isomap</td><td>0.7527</td><td>0.7308</td><td>0.8085</td><td>0.6957</td><td>0.5042</td><td>9.651</td><td>0.5077</td><td>0.6667</td><td>0.3528</td><td>0.08761</td><td>addf0d1</td></tr>\n",
       "</tbody>\n",
       "</table>\n"
      ],
      "text/latex": [
       "A tibble: 1 × 13\n",
       "\\begin{tabular}{lllllllllllll}\n",
       " model & preprocessing & accuracy & precision & sensitivity & specificity & informedness & dor & mcc & outlier informedness & cv informedness & mad informedness & commit hash\\\\\n",
       " <chr> & <chr> & <dbl> & <dbl> & <dbl> & <dbl> & <dbl> & <dbl> & <dbl> & <dbl> & <dbl> & <dbl> & <chr>\\\\\n",
       "\\hline\n",
       "\t rfc & isomap & 0.7527 & 0.7308 & 0.8085 & 0.6957 & 0.5042 & 9.651 & 0.5077 & 0.6667 & 0.3528 & 0.08761 & addf0d1\\\\\n",
       "\\end{tabular}\n"
      ],
      "text/markdown": [
       "\n",
       "A tibble: 1 × 13\n",
       "\n",
       "| model &lt;chr&gt; | preprocessing &lt;chr&gt; | accuracy &lt;dbl&gt; | precision &lt;dbl&gt; | sensitivity &lt;dbl&gt; | specificity &lt;dbl&gt; | informedness &lt;dbl&gt; | dor &lt;dbl&gt; | mcc &lt;dbl&gt; | outlier informedness &lt;dbl&gt; | cv informedness &lt;dbl&gt; | mad informedness &lt;dbl&gt; | commit hash &lt;chr&gt; |\n",
       "|---|---|---|---|---|---|---|---|---|---|---|---|---|\n",
       "| rfc | isomap | 0.7527 | 0.7308 | 0.8085 | 0.6957 | 0.5042 | 9.651 | 0.5077 | 0.6667 | 0.3528 | 0.08761 | addf0d1 |\n",
       "\n"
      ],
      "text/plain": [
       "  model preprocessing accuracy precision sensitivity specificity informedness\n",
       "1 rfc   isomap        0.7527   0.7308    0.8085      0.6957      0.5042      \n",
       "  dor   mcc    outlier informedness cv informedness mad informedness\n",
       "1 9.651 0.5077 0.6667               0.3528          0.08761         \n",
       "  commit hash\n",
       "1 addf0d1    "
      ]
     },
     "metadata": {},
     "output_type": "display_data"
    }
   ],
   "source": [
    "best_dor <- scores[scores$dor == max(scores$dor), ]\n",
    "best_dor"
   ]
  },
  {
   "cell_type": "code",
   "execution_count": 4,
   "metadata": {},
   "outputs": [
    {
     "data": {
      "text/html": [
       "<table>\n",
       "<caption>A tibble: 1 × 13</caption>\n",
       "<thead>\n",
       "\t<tr><th scope=col>model</th><th scope=col>preprocessing</th><th scope=col>accuracy</th><th scope=col>precision</th><th scope=col>sensitivity</th><th scope=col>specificity</th><th scope=col>informedness</th><th scope=col>dor</th><th scope=col>mcc</th><th scope=col>outlier informedness</th><th scope=col>cv informedness</th><th scope=col>mad informedness</th><th scope=col>commit hash</th></tr>\n",
       "\t<tr><th scope=col>&lt;chr&gt;</th><th scope=col>&lt;chr&gt;</th><th scope=col>&lt;dbl&gt;</th><th scope=col>&lt;dbl&gt;</th><th scope=col>&lt;dbl&gt;</th><th scope=col>&lt;dbl&gt;</th><th scope=col>&lt;dbl&gt;</th><th scope=col>&lt;dbl&gt;</th><th scope=col>&lt;dbl&gt;</th><th scope=col>&lt;dbl&gt;</th><th scope=col>&lt;dbl&gt;</th><th scope=col>&lt;dbl&gt;</th><th scope=col>&lt;chr&gt;</th></tr>\n",
       "</thead>\n",
       "<tbody>\n",
       "\t<tr><td>rfc</td><td>isomap</td><td>0.7527</td><td>0.7308</td><td>0.8085</td><td>0.6957</td><td>0.5042</td><td>9.651</td><td>0.5077</td><td>0.6667</td><td>0.3528</td><td>0.08761</td><td>addf0d1</td></tr>\n",
       "</tbody>\n",
       "</table>\n"
      ],
      "text/latex": [
       "A tibble: 1 × 13\n",
       "\\begin{tabular}{lllllllllllll}\n",
       " model & preprocessing & accuracy & precision & sensitivity & specificity & informedness & dor & mcc & outlier informedness & cv informedness & mad informedness & commit hash\\\\\n",
       " <chr> & <chr> & <dbl> & <dbl> & <dbl> & <dbl> & <dbl> & <dbl> & <dbl> & <dbl> & <dbl> & <dbl> & <chr>\\\\\n",
       "\\hline\n",
       "\t rfc & isomap & 0.7527 & 0.7308 & 0.8085 & 0.6957 & 0.5042 & 9.651 & 0.5077 & 0.6667 & 0.3528 & 0.08761 & addf0d1\\\\\n",
       "\\end{tabular}\n"
      ],
      "text/markdown": [
       "\n",
       "A tibble: 1 × 13\n",
       "\n",
       "| model &lt;chr&gt; | preprocessing &lt;chr&gt; | accuracy &lt;dbl&gt; | precision &lt;dbl&gt; | sensitivity &lt;dbl&gt; | specificity &lt;dbl&gt; | informedness &lt;dbl&gt; | dor &lt;dbl&gt; | mcc &lt;dbl&gt; | outlier informedness &lt;dbl&gt; | cv informedness &lt;dbl&gt; | mad informedness &lt;dbl&gt; | commit hash &lt;chr&gt; |\n",
       "|---|---|---|---|---|---|---|---|---|---|---|---|---|\n",
       "| rfc | isomap | 0.7527 | 0.7308 | 0.8085 | 0.6957 | 0.5042 | 9.651 | 0.5077 | 0.6667 | 0.3528 | 0.08761 | addf0d1 |\n",
       "\n"
      ],
      "text/plain": [
       "  model preprocessing accuracy precision sensitivity specificity informedness\n",
       "1 rfc   isomap        0.7527   0.7308    0.8085      0.6957      0.5042      \n",
       "  dor   mcc    outlier informedness cv informedness mad informedness\n",
       "1 9.651 0.5077 0.6667               0.3528          0.08761         \n",
       "  commit hash\n",
       "1 addf0d1    "
      ]
     },
     "metadata": {},
     "output_type": "display_data"
    }
   ],
   "source": [
    "best_sensitivity <- scores[scores$sensitivity == max(scores$sensitivity), ]\n",
    "best_sensitivity"
   ]
  },
  {
   "cell_type": "code",
   "execution_count": 5,
   "metadata": {},
   "outputs": [
    {
     "data": {
      "text/html": [
       "<table>\n",
       "<caption>A tibble: 1 × 13</caption>\n",
       "<thead>\n",
       "\t<tr><th scope=col>model</th><th scope=col>preprocessing</th><th scope=col>accuracy</th><th scope=col>precision</th><th scope=col>sensitivity</th><th scope=col>specificity</th><th scope=col>informedness</th><th scope=col>dor</th><th scope=col>mcc</th><th scope=col>outlier informedness</th><th scope=col>cv informedness</th><th scope=col>mad informedness</th><th scope=col>commit hash</th></tr>\n",
       "\t<tr><th scope=col>&lt;chr&gt;</th><th scope=col>&lt;chr&gt;</th><th scope=col>&lt;dbl&gt;</th><th scope=col>&lt;dbl&gt;</th><th scope=col>&lt;dbl&gt;</th><th scope=col>&lt;dbl&gt;</th><th scope=col>&lt;dbl&gt;</th><th scope=col>&lt;dbl&gt;</th><th scope=col>&lt;dbl&gt;</th><th scope=col>&lt;dbl&gt;</th><th scope=col>&lt;dbl&gt;</th><th scope=col>&lt;dbl&gt;</th><th scope=col>&lt;chr&gt;</th></tr>\n",
       "</thead>\n",
       "<tbody>\n",
       "\t<tr><td>rfc</td><td>isomap</td><td>0.7527</td><td>0.7308</td><td>0.8085</td><td>0.6957</td><td>0.5042</td><td>9.651</td><td>0.5077</td><td>0.6667</td><td>0.3528</td><td>0.08761</td><td>addf0d1</td></tr>\n",
       "</tbody>\n",
       "</table>\n"
      ],
      "text/latex": [
       "A tibble: 1 × 13\n",
       "\\begin{tabular}{lllllllllllll}\n",
       " model & preprocessing & accuracy & precision & sensitivity & specificity & informedness & dor & mcc & outlier informedness & cv informedness & mad informedness & commit hash\\\\\n",
       " <chr> & <chr> & <dbl> & <dbl> & <dbl> & <dbl> & <dbl> & <dbl> & <dbl> & <dbl> & <dbl> & <dbl> & <chr>\\\\\n",
       "\\hline\n",
       "\t rfc & isomap & 0.7527 & 0.7308 & 0.8085 & 0.6957 & 0.5042 & 9.651 & 0.5077 & 0.6667 & 0.3528 & 0.08761 & addf0d1\\\\\n",
       "\\end{tabular}\n"
      ],
      "text/markdown": [
       "\n",
       "A tibble: 1 × 13\n",
       "\n",
       "| model &lt;chr&gt; | preprocessing &lt;chr&gt; | accuracy &lt;dbl&gt; | precision &lt;dbl&gt; | sensitivity &lt;dbl&gt; | specificity &lt;dbl&gt; | informedness &lt;dbl&gt; | dor &lt;dbl&gt; | mcc &lt;dbl&gt; | outlier informedness &lt;dbl&gt; | cv informedness &lt;dbl&gt; | mad informedness &lt;dbl&gt; | commit hash &lt;chr&gt; |\n",
       "|---|---|---|---|---|---|---|---|---|---|---|---|---|\n",
       "| rfc | isomap | 0.7527 | 0.7308 | 0.8085 | 0.6957 | 0.5042 | 9.651 | 0.5077 | 0.6667 | 0.3528 | 0.08761 | addf0d1 |\n",
       "\n"
      ],
      "text/plain": [
       "  model preprocessing accuracy precision sensitivity specificity informedness\n",
       "1 rfc   isomap        0.7527   0.7308    0.8085      0.6957      0.5042      \n",
       "  dor   mcc    outlier informedness cv informedness mad informedness\n",
       "1 9.651 0.5077 0.6667               0.3528          0.08761         \n",
       "  commit hash\n",
       "1 addf0d1    "
      ]
     },
     "metadata": {},
     "output_type": "display_data"
    }
   ],
   "source": [
    "best_cv_informedness <- scores[scores$`cv informedness` == max(scores$`cv informedness`), ]\n",
    "best_cv_informedness"
   ]
  },
  {
   "cell_type": "code",
   "execution_count": 6,
   "metadata": {},
   "outputs": [
    {
     "data": {
      "text/html": [
       "<table>\n",
       "<caption>A tibble: 1 × 13</caption>\n",
       "<thead>\n",
       "\t<tr><th scope=col>model</th><th scope=col>preprocessing</th><th scope=col>accuracy</th><th scope=col>precision</th><th scope=col>sensitivity</th><th scope=col>specificity</th><th scope=col>informedness</th><th scope=col>dor</th><th scope=col>mcc</th><th scope=col>outlier informedness</th><th scope=col>cv informedness</th><th scope=col>mad informedness</th><th scope=col>commit hash</th></tr>\n",
       "\t<tr><th scope=col>&lt;chr&gt;</th><th scope=col>&lt;chr&gt;</th><th scope=col>&lt;dbl&gt;</th><th scope=col>&lt;dbl&gt;</th><th scope=col>&lt;dbl&gt;</th><th scope=col>&lt;dbl&gt;</th><th scope=col>&lt;dbl&gt;</th><th scope=col>&lt;dbl&gt;</th><th scope=col>&lt;dbl&gt;</th><th scope=col>&lt;dbl&gt;</th><th scope=col>&lt;dbl&gt;</th><th scope=col>&lt;dbl&gt;</th><th scope=col>&lt;chr&gt;</th></tr>\n",
       "</thead>\n",
       "<tbody>\n",
       "\t<tr><td>NA</td><td>NA</td><td>NA</td><td>NA</td><td>NA</td><td>NA</td><td>NA</td><td>NA</td><td>NA</td><td>NA</td><td>NA</td><td>NA</td><td>NA</td></tr>\n",
       "</tbody>\n",
       "</table>\n"
      ],
      "text/latex": [
       "A tibble: 1 × 13\n",
       "\\begin{tabular}{lllllllllllll}\n",
       " model & preprocessing & accuracy & precision & sensitivity & specificity & informedness & dor & mcc & outlier informedness & cv informedness & mad informedness & commit hash\\\\\n",
       " <chr> & <chr> & <dbl> & <dbl> & <dbl> & <dbl> & <dbl> & <dbl> & <dbl> & <dbl> & <dbl> & <dbl> & <chr>\\\\\n",
       "\\hline\n",
       "\t NA & NA & NA & NA & NA & NA & NA & NA & NA & NA & NA & NA & NA\\\\\n",
       "\\end{tabular}\n"
      ],
      "text/markdown": [
       "\n",
       "A tibble: 1 × 13\n",
       "\n",
       "| model &lt;chr&gt; | preprocessing &lt;chr&gt; | accuracy &lt;dbl&gt; | precision &lt;dbl&gt; | sensitivity &lt;dbl&gt; | specificity &lt;dbl&gt; | informedness &lt;dbl&gt; | dor &lt;dbl&gt; | mcc &lt;dbl&gt; | outlier informedness &lt;dbl&gt; | cv informedness &lt;dbl&gt; | mad informedness &lt;dbl&gt; | commit hash &lt;chr&gt; |\n",
       "|---|---|---|---|---|---|---|---|---|---|---|---|---|\n",
       "| NA | NA | NA | NA | NA | NA | NA | NA | NA | NA | NA | NA | NA |\n",
       "\n"
      ],
      "text/plain": [
       "  model preprocessing accuracy precision sensitivity specificity informedness\n",
       "1 NA    NA            NA       NA        NA          NA          NA          \n",
       "  dor mcc outlier informedness cv informedness mad informedness commit hash\n",
       "1 NA  NA  NA                   NA              NA               NA         "
      ]
     },
     "metadata": {},
     "output_type": "display_data"
    }
   ],
   "source": [
    "second_best_informedness <- scores[scores$informedness == unique(sort(scores$informedness, TRUE))[2], ]\n",
    "second_best_informedness"
   ]
  },
  {
   "cell_type": "code",
   "execution_count": 7,
   "metadata": {},
   "outputs": [
    {
     "data": {
      "text/html": [
       "<table>\n",
       "<caption>A tibble: 1 × 13</caption>\n",
       "<thead>\n",
       "\t<tr><th scope=col>model</th><th scope=col>preprocessing</th><th scope=col>accuracy</th><th scope=col>precision</th><th scope=col>sensitivity</th><th scope=col>specificity</th><th scope=col>informedness</th><th scope=col>dor</th><th scope=col>mcc</th><th scope=col>outlier informedness</th><th scope=col>cv informedness</th><th scope=col>mad informedness</th><th scope=col>commit hash</th></tr>\n",
       "\t<tr><th scope=col>&lt;chr&gt;</th><th scope=col>&lt;chr&gt;</th><th scope=col>&lt;dbl&gt;</th><th scope=col>&lt;dbl&gt;</th><th scope=col>&lt;dbl&gt;</th><th scope=col>&lt;dbl&gt;</th><th scope=col>&lt;dbl&gt;</th><th scope=col>&lt;dbl&gt;</th><th scope=col>&lt;dbl&gt;</th><th scope=col>&lt;dbl&gt;</th><th scope=col>&lt;dbl&gt;</th><th scope=col>&lt;dbl&gt;</th><th scope=col>&lt;chr&gt;</th></tr>\n",
       "</thead>\n",
       "<tbody>\n",
       "\t<tr><td>NA</td><td>NA</td><td>NA</td><td>NA</td><td>NA</td><td>NA</td><td>NA</td><td>NA</td><td>NA</td><td>NA</td><td>NA</td><td>NA</td><td>NA</td></tr>\n",
       "</tbody>\n",
       "</table>\n"
      ],
      "text/latex": [
       "A tibble: 1 × 13\n",
       "\\begin{tabular}{lllllllllllll}\n",
       " model & preprocessing & accuracy & precision & sensitivity & specificity & informedness & dor & mcc & outlier informedness & cv informedness & mad informedness & commit hash\\\\\n",
       " <chr> & <chr> & <dbl> & <dbl> & <dbl> & <dbl> & <dbl> & <dbl> & <dbl> & <dbl> & <dbl> & <dbl> & <chr>\\\\\n",
       "\\hline\n",
       "\t NA & NA & NA & NA & NA & NA & NA & NA & NA & NA & NA & NA & NA\\\\\n",
       "\\end{tabular}\n"
      ],
      "text/markdown": [
       "\n",
       "A tibble: 1 × 13\n",
       "\n",
       "| model &lt;chr&gt; | preprocessing &lt;chr&gt; | accuracy &lt;dbl&gt; | precision &lt;dbl&gt; | sensitivity &lt;dbl&gt; | specificity &lt;dbl&gt; | informedness &lt;dbl&gt; | dor &lt;dbl&gt; | mcc &lt;dbl&gt; | outlier informedness &lt;dbl&gt; | cv informedness &lt;dbl&gt; | mad informedness &lt;dbl&gt; | commit hash &lt;chr&gt; |\n",
       "|---|---|---|---|---|---|---|---|---|---|---|---|---|\n",
       "| NA | NA | NA | NA | NA | NA | NA | NA | NA | NA | NA | NA | NA |\n",
       "\n"
      ],
      "text/plain": [
       "  model preprocessing accuracy precision sensitivity specificity informedness\n",
       "1 NA    NA            NA       NA        NA          NA          NA          \n",
       "  dor mcc outlier informedness cv informedness mad informedness commit hash\n",
       "1 NA  NA  NA                   NA              NA               NA         "
      ]
     },
     "metadata": {},
     "output_type": "display_data"
    }
   ],
   "source": [
    "third_best_informedness <- scores[scores$informedness == unique(sort(scores$informedness, TRUE))[3], ]\n",
    "third_best_informedness"
   ]
  },
  {
   "cell_type": "code",
   "execution_count": null,
   "metadata": {},
   "outputs": [],
   "source": []
  }
 ],
 "metadata": {
  "kernelspec": {
   "display_name": "R",
   "language": "R",
   "name": "ir"
  },
  "language_info": {
   "codemirror_mode": "r",
   "file_extension": ".r",
   "mimetype": "text/x-r-source",
   "name": "R",
   "pygments_lexer": "r",
   "version": "3.6.3"
  }
 },
 "nbformat": 4,
 "nbformat_minor": 4
}
